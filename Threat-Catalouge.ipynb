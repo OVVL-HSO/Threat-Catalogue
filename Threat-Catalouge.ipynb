{
 "cells": [
  {
   "cell_type": "markdown",
   "metadata": {},
   "source": [
    "# Threat Catalogue Generation\n",
    "\n",
    "This notebook shows the process of creating a threat catalogue based on the publicly available CVE and CWE datasets.\n",
    "\n",
    "## Table of contents:\n",
    "1. [Load CVE and CWE data](#load_cve_cwe_data)\n",
    "    1. [CVE Parsing](#cve_parsing)\n",
    "    2. [CWE Parsing (Specific Weaknesses)](#cwe_parsing)\n",
    "    3. [CWE Parsing (Weakness Categories)](#cwe_parsing_category)\n",
    "2. [Merge CVE and CWE DataFrames](#merge_cve_cwe)\n",
    "    1. [Preprocessing](#cve_cwe_preprocessing)\n",
    "    2. [Merge DataFrames](#cve_cwe_merge)\n",
    "    3. [Inspection of the combined DataFrame](#analyze_merged_dataframe)\n",
    "3. [STRIDE Mapping](#stride_mapping)\n",
    "    1. [Using CWE Common Consequences Scope](#cc_scope_mapping)\n",
    "    2. [Using CWE Common Consequences Impact](#cc_impact_mapping)\n",
    "    3. [Visualize the created mapping](#plot_mapping)\n",
    "4. [Text Classification](#text_classification)\n",
    "    1. [Preprocessing](#text_classification_preprocessing)\n",
    "    2. [Model Comparison](#text_classification_model_comparison)\n",
    "    3. [Hyper-parameter Optimization](#text_classification_hyperparameter_optimization)\n",
    "    4. [Evaluation](#text_classification_evaluation)\n",
    "    5. [Completion of the Dataset](#test_classification_completion)\n",
    "5. [Table Reduction](#table_reduction)\n",
    "    1. [Attribute Encoding](#attribute_encoding)\n",
    "    2. [Generate Table](#generate_table)"
   ]
  },
  {
   "cell_type": "markdown",
   "metadata": {},
   "source": [
    "## 1. Load CVE and CWE data <a class=\"anchor\" id=\"load_cve_cwe_data\"></a>\n",
    "In this section the CVE and CWE datasets get processed and saved into a pandas DataFrame to reuse them in the later steps.<br>\n",
    "To reproduce this step all CVE JSON files need to be in the \"./data/cve/\" subdirectory. The needed files can be downloaded from the <a href=\"https://nvd.nist.gov/vuln/data-feeds#JSON_FEED\"> National Vulnerability Database</a>.<br>\n",
    "Additionally the CWE \"Development Concepts\" and \"Research Concepts\" datasets need to be placed in the \"./data/cwe/\" subdirectory. These files can be downloaded from <a href=\"https://cwe.mitre.org/data/downloads.html\">MITRE</a> and need to be renamed into \"CWE_Research_Concepts.xml\" and \"CWE_Development_Concepts.xml\""
   ]
  },
  {
   "cell_type": "markdown",
   "metadata": {},
   "source": [
    "### 1.A. CVE Parsing <a class=\"anchor\" id=\"cve_parsing\"></a>\n",
    "<i>Note: For better performance all data is first saved into a dictionary, which is later transformed into a pandas DataFrame</i>"
   ]
  },
  {
   "cell_type": "code",
   "execution_count": 1,
   "metadata": {
    "ExecuteTime": {
     "end_time": "2020-03-02T18:07:48.289693Z",
     "start_time": "2020-03-02T18:07:48.284721Z"
    }
   },
   "outputs": [],
   "source": [
    "import json\n",
    "import glob\n",
    "import pandas as pd"
   ]
  },
  {
   "cell_type": "code",
   "execution_count": 2,
   "metadata": {
    "ExecuteTime": {
     "end_time": "2020-03-02T18:07:48.692165Z",
     "start_time": "2020-03-02T18:07:48.687067Z"
    }
   },
   "outputs": [
    {
     "name": "stdout",
     "output_type": "stream",
     "text": [
      "Found 18 JSON files in the \"./data/cve/\" directory\n"
     ]
    }
   ],
   "source": [
    "# get all cve json files\n",
    "cve_data_dir = './data/cve/'\n",
    "cve_files = glob.glob(cve_data_dir + '*.json')\n",
    "print('Found {} JSON files in the \\\"{}\\\" directory'.format(\n",
    "    len(cve_files), cve_data_dir))"
   ]
  },
  {
   "cell_type": "code",
   "execution_count": 3,
   "metadata": {
    "ExecuteTime": {
     "end_time": "2020-03-02T18:07:49.282837Z",
     "start_time": "2020-03-02T18:07:49.275520Z"
    }
   },
   "outputs": [],
   "source": [
    "# the prototype dictionary is used to ensure all rows later contain the same structure,\n",
    "# which is needed for a correct transformation into a DataFrame\n",
    "row_prototype = {\n",
    "    # General Info\n",
    "    'cve_id': '',\n",
    "    'cve_data_type': '',\n",
    "    'cve_data_format': '',\n",
    "    'cve_data_version': '',\n",
    "    'cve_published_date': '',\n",
    "    'cve_last_modified_date': '',\n",
    "    'cve_description': '',\n",
    "    # CWE Info:\n",
    "    'cwe_list': [],\n",
    "    # CPE Info:\n",
    "    'cpe_list': [],\n",
    "    # CVSS Scoring V2\n",
    "    'has_cvssV2_scoring': False,\n",
    "    'cvssV2_version': '',\n",
    "    'cvssV2_vector_string': '',\n",
    "    'cvssV2_access_vector': '',\n",
    "    'cvssV2_access_complexity': '',\n",
    "    'cvssV2_authentication': '',\n",
    "    'cvssV2_confidentiality_impact': '',\n",
    "    'cvssV2_integrity_impact': '',\n",
    "    'cvssV2_availability_impact': '',\n",
    "    'cvssV2_base_score': '',\n",
    "    'cvssV2_severity': '',\n",
    "    'cvssV2_exploitability_score': '',\n",
    "    'cvssV2_impact_score': '',\n",
    "    'cvssV2_obtain_all_privilege': '',\n",
    "    'cvssV2_obtain_user_privilege': '',\n",
    "    'cvssV2_obtain_other_privilege': '',\n",
    "    'cvssV2_user_interaction_required': '',\n",
    "    # CVSS Scoring V3\n",
    "    'has_cvssV3_scoring': False,\n",
    "    'cvssV3_version': '',\n",
    "    'cvssV3_vector_string': '',\n",
    "    'cvssV3_attack_vector': '',\n",
    "    'cvssV3_attack_complexity': '',\n",
    "    'cvssV3_privileges_required': '',\n",
    "    'cvssV3_user_interaction_required': '',\n",
    "    'cvssV3_scope': '',\n",
    "    'cvssV3_confidentiality_impact': '',\n",
    "    'cvssV3_integrity_impact': '',\n",
    "    'cvssV3_availability_impact': '',\n",
    "    'cvssV3_base_score': '',\n",
    "    'cvssV3_base_severity': '',\n",
    "    'cvssV3_exploitability_score': '',\n",
    "    'cvssV3_impact_score': '',\n",
    "}"
   ]
  },
  {
   "cell_type": "code",
   "execution_count": 4,
   "metadata": {
    "ExecuteTime": {
     "end_time": "2020-03-02T18:08:16.058552Z",
     "start_time": "2020-03-02T18:07:50.148145Z"
    }
   },
   "outputs": [
    {
     "name": "stdout",
     "output_type": "stream",
     "text": [
      "processing file \"./data/cve/nvdcve-1.1-2010.json\"\n",
      "processing file \"./data/cve/nvdcve-1.1-2009.json\"\n",
      "processing file \"./data/cve/nvdcve-1.1-2012.json\"\n",
      "processing file \"./data/cve/nvdcve-1.1-2017.json\"\n",
      "processing file \"./data/cve/nvdcve-1.1-2002.json\"\n",
      "processing file \"./data/cve/nvdcve-1.1-2004.json\"\n",
      "processing file \"./data/cve/nvdcve-1.1-2005.json\"\n",
      "processing file \"./data/cve/nvdcve-1.1-2015.json\"\n",
      "processing file \"./data/cve/nvdcve-1.1-2007.json\"\n",
      "processing file \"./data/cve/nvdcve-1.1-2006.json\"\n",
      "processing file \"./data/cve/nvdcve-1.1-2016.json\"\n",
      "processing file \"./data/cve/nvdcve-1.1-2014.json\"\n",
      "processing file \"./data/cve/nvdcve-1.1-2008.json\"\n",
      "processing file \"./data/cve/nvdcve-1.1-2018.json\"\n",
      "processing file \"./data/cve/nvdcve-1.1-2013.json\"\n",
      "processing file \"./data/cve/nvdcve-1.1-2011.json\"\n",
      "processing file \"./data/cve/nvdcve-1.1-2019.json\"\n",
      "processing file \"./data/cve/nvdcve-1.1-2003.json\"\n",
      "Loaded 136486 CVE entries.\n"
     ]
    }
   ],
   "source": [
    "df_dict = {}\n",
    "ct_dict = 0\n",
    "\n",
    "for f in cve_files:\n",
    "    print('processing file \\\"{}\\\"'.format(f))\n",
    "    data = json.load(open(f, 'r'))\n",
    "\n",
    "    for i in range(len(data['CVE_Items'])):\n",
    "        # Create one row in our DataFrame for each CVE by extracting the following values from the json strucutre\n",
    "        new_row = row_prototype.copy()\n",
    "\n",
    "        tmp_data = data['CVE_Items'][i]\n",
    "\n",
    "        # extract general information\n",
    "        new_row['cve_id'] = tmp_data['cve']['CVE_data_meta']['ID']\n",
    "        new_row['cve_data_type'] = tmp_data['cve']['data_type']\n",
    "        new_row['cve_data_format'] = tmp_data['cve']['data_format']\n",
    "        new_row['cve_data_version'] = tmp_data['cve']['data_version']\n",
    "        new_row['cve_published_date'] = tmp_data['publishedDate']\n",
    "        new_row['cve_last_modified_date'] = tmp_data['lastModifiedDate']\n",
    "        new_row['cve_description'] = tmp_data['cve']['description']['description_data'][0]['value']\n",
    "\n",
    "        # extract all CWEs\n",
    "        cwe_list = []\n",
    "        for cwe_item in range(len(tmp_data['cve']['problemtype']['problemtype_data'])):\n",
    "            cwe_list.extend([i['value'] for i in tmp_data['cve']['problemtype']\n",
    "                             ['problemtype_data'][cwe_item]['description']])\n",
    "\n",
    "        new_row['cwe_list'] = cwe_list\n",
    "\n",
    "        # extract all CPEs\n",
    "        cpe_list = []\n",
    "        if len(tmp_data['configurations']['nodes']) > 0:\n",
    "            for cpe_nodes in range(len(tmp_data['configurations']['nodes'])):\n",
    "                if 'cpe_match' in tmp_data['configurations']['nodes'][cpe_nodes].keys():\n",
    "                    cpe_list.extend([(i['cpe23Uri'], ) for i in tmp_data['configurations']\n",
    "                                     ['nodes'][cpe_nodes]['cpe_match'] if i['vulnerable'] == True])\n",
    "\n",
    "        new_row['cpe_list'] = cpe_list\n",
    "\n",
    "        # extract all CVSSv2 Metrics\n",
    "        if 'baseMetricV2' in tmp_data['impact'].keys():\n",
    "            new_row['has_cvssV2_scoring'] = True\n",
    "            new_row['cvssV2_version'] = tmp_data['impact']['baseMetricV2']['cvssV2']['version']\n",
    "            new_row['cvssV2_vector_string'] = tmp_data['impact']['baseMetricV2']['cvssV2']['vectorString']\n",
    "            new_row['cvssV2_access_vector'] = tmp_data['impact']['baseMetricV2']['cvssV2']['accessVector']\n",
    "            new_row['cvssV2_access_complexity'] = tmp_data['impact']['baseMetricV2']['cvssV2']['accessComplexity']\n",
    "            new_row['cvssV2_authentication'] = tmp_data['impact']['baseMetricV2']['cvssV2']['authentication']\n",
    "            new_row['cvssV2_confidentiality_impact'] = tmp_data['impact']['baseMetricV2']['cvssV2']['confidentialityImpact']\n",
    "            new_row['cvssV2_integrity_impact'] = tmp_data['impact']['baseMetricV2']['cvssV2']['integrityImpact']\n",
    "            new_row['cvssV2_availability_impact'] = tmp_data['impact']['baseMetricV2']['cvssV2']['availabilityImpact']\n",
    "            new_row['cvssV2_base_score'] = tmp_data['impact']['baseMetricV2']['cvssV2']['baseScore']\n",
    "            new_row['cvssV2_severity'] = tmp_data['impact']['baseMetricV2']['severity']\n",
    "            new_row['cvssV2_exploitability_score'] = tmp_data['impact']['baseMetricV2']['exploitabilityScore']\n",
    "            new_row['cvssV2_impact_score'] = tmp_data['impact']['baseMetricV2']['impactScore']\n",
    "            new_row['cvssV2_obtain_all_privilege'] = tmp_data['impact']['baseMetricV2']['obtainAllPrivilege']\n",
    "            new_row['cvssV2_obtain_user_privilege'] = tmp_data['impact']['baseMetricV2']['obtainUserPrivilege']\n",
    "            new_row['cvssV2_obtain_other_privilege'] = tmp_data['impact']['baseMetricV2']['obtainOtherPrivilege']\n",
    "            if 'userInteractionRequired' in tmp_data['impact']['baseMetricV2'].keys():\n",
    "                new_row['cvssV2_user_interaction_required'] = tmp_data['impact']['baseMetricV2']['userInteractionRequired']\n",
    "\n",
    "        # extract all CVSSv3 Metrics\n",
    "        if 'baseMetricV3' in tmp_data['impact'].keys():\n",
    "            new_row['has_cvssV3_scoring'] = True\n",
    "            if 'cvssV3' in tmp_data['impact']['baseMetricV3'].keys():\n",
    "                new_row['cvssV3_version'] = tmp_data['impact']['baseMetricV3']['cvssV3']['version']\n",
    "                new_row['cvssV3_vector_string'] = tmp_data['impact']['baseMetricV3']['cvssV3']['vectorString']\n",
    "                new_row['cvssV3_attack_vector'] = tmp_data['impact']['baseMetricV3']['cvssV3']['attackVector']\n",
    "                new_row['cvssV3_attack_complexity'] = tmp_data['impact']['baseMetricV3']['cvssV3']['attackComplexity']\n",
    "                new_row['cvssV3_privileges_required'] = tmp_data['impact']['baseMetricV3']['cvssV3']['privilegesRequired']\n",
    "                new_row['cvssV3_user_interaction_required'] = tmp_data['impact']['baseMetricV3']['cvssV3']['userInteraction']\n",
    "                new_row['cvssV3_scope'] = tmp_data['impact']['baseMetricV3']['cvssV3']['scope']\n",
    "                new_row['cvssV3_confidentiality_impact'] = tmp_data['impact']['baseMetricV3']['cvssV3']['confidentialityImpact']\n",
    "                new_row['cvssV3_integrity_impact'] = tmp_data['impact']['baseMetricV3']['cvssV3']['integrityImpact']\n",
    "                new_row['cvssV3_availability_impact'] = tmp_data['impact']['baseMetricV3']['cvssV3']['availabilityImpact']\n",
    "                new_row['cvssV3_base_score'] = tmp_data['impact']['baseMetricV3']['cvssV3']['baseScore']\n",
    "                new_row['cvssV3_base_severity'] = tmp_data['impact']['baseMetricV3']['cvssV3']['baseSeverity']\n",
    "            if 'exploitabilityScore' in tmp_data['impact']['baseMetricV3'].keys():\n",
    "                new_row['cvssV3_exploitability_score'] = tmp_data['impact']['baseMetricV3']['exploitabilityScore']\n",
    "            if 'impactScore' in tmp_data['impact']['baseMetricV3'].keys():\n",
    "                new_row['cvssV3_impact_score'] = tmp_data['impact']['baseMetricV3']['impactScore']\n",
    "\n",
    "        df_dict[ct_dict] = new_row\n",
    "        ct_dict += 1\n",
    "\n",
    "cve_df = pd.DataFrame.from_dict(df_dict, \"index\")\n",
    "print('Loaded {} CVE entries.'.format(len(cve_df)))"
   ]
  },
  {
   "cell_type": "markdown",
   "metadata": {},
   "source": [
    "### 1.B. CWE Parsing (Specific Weaknesses)<a class=\"anchor\" id=\"cwe_parsing\"></a>"
   ]
  },
  {
   "cell_type": "code",
   "execution_count": 5,
   "metadata": {
    "ExecuteTime": {
     "end_time": "2020-03-02T18:08:16.301179Z",
     "start_time": "2020-03-02T18:08:16.062603Z"
    }
   },
   "outputs": [],
   "source": [
    "import xml.etree.ElementTree as ET\n",
    "\n",
    "cwe_data_dir = './data/cwe/'\n",
    "cwe_file_name = 'CWE_Research_Concepts.xml'\n",
    "etree = ET.parse(open(cwe_data_dir + cwe_file_name))\n",
    "cwe_xml = etree.getroot()\n",
    "weaknesses = cwe_xml[0]"
   ]
  },
  {
   "cell_type": "code",
   "execution_count": 6,
   "metadata": {
    "ExecuteTime": {
     "end_time": "2020-03-02T18:08:16.309077Z",
     "start_time": "2020-03-02T18:08:16.303294Z"
    }
   },
   "outputs": [],
   "source": [
    "row_prototype = {\n",
    "    # Weakness attributes\n",
    "    'id': None,\n",
    "    'name': None,\n",
    "    'abstraction': None,\n",
    "    'structure': None,\n",
    "    'status': None,\n",
    "    # weakness children\n",
    "    'description': None,\n",
    "    'extended_description': None,\n",
    "    'related_weaknesses': [],\n",
    "    # applicable_platforms is split into multiple columns:\n",
    "    'applicable_platforms_language': None,\n",
    "    'applicable_platforms_paradigm': None,\n",
    "    'applicable_platforms_technology': None,\n",
    "    'applicable_platforms_operating_system': None,\n",
    "    'background_details': None,\n",
    "    'modes_of_introduction': None,\n",
    "    'likelihood_of_exploit': None,\n",
    "    # common_consequences is split in multiple columns:\n",
    "    'common_consequences_scope': None,\n",
    "    'common_consequences_impact': None,\n",
    "    'common_consequences_note': None,\n",
    "    'weakness_ordinalities': None,\n",
    "    'alternate_terms': None,\n",
    "    'taxonomy_mappings': None,\n",
    "    'related_attack_patterns': None,\n",
    "    'affected_resources': None,\n",
    "    'functional_areas': None\n",
    "}"
   ]
  },
  {
   "cell_type": "code",
   "execution_count": 7,
   "metadata": {
    "ExecuteTime": {
     "end_time": "2020-03-02T18:08:16.319290Z",
     "start_time": "2020-03-02T18:08:16.311103Z"
    }
   },
   "outputs": [],
   "source": [
    "def clear_child_name(child_name):\n",
    "    return child_name.replace('{http://cwe.mitre.org/cwe-6}', '')"
   ]
  },
  {
   "cell_type": "code",
   "execution_count": 8,
   "metadata": {
    "ExecuteTime": {
     "end_time": "2020-03-02T18:08:16.493187Z",
     "start_time": "2020-03-02T18:08:16.321685Z"
    }
   },
   "outputs": [
    {
     "name": "stdout",
     "output_type": "stream",
     "text": [
      "Loaded 808 CWE entries.\n"
     ]
    }
   ],
   "source": [
    "df_dict = {}\n",
    "dict_ct = 0\n",
    "\n",
    "for weakness in weaknesses:\n",
    "    new_row = row_prototype.copy()\n",
    "\n",
    "    new_row['id'] = int(weakness.attrib['ID'])\n",
    "    new_row['name'] = weakness.attrib['Name']\n",
    "    new_row['abstraction'] = weakness.attrib['Abstraction']\n",
    "    new_row['structure'] = weakness.attrib['Structure']\n",
    "    new_row['status'] = weakness.attrib['Status']\n",
    "\n",
    "    for weakness_child in weakness.getchildren():\n",
    "        child_name = clear_child_name(weakness_child.tag)\n",
    "\n",
    "        if child_name == 'Description':\n",
    "            new_row['description'] = weakness_child.text\n",
    "\n",
    "        if child_name == 'Extended_Description':\n",
    "            new_row['extended_description'] = weakness_child.text\n",
    "\n",
    "        if child_name == 'Related_Weaknesses':\n",
    "            related_weaknesses = []\n",
    "            for related_weakness in weakness_child.getchildren():\n",
    "                related_weaknesses.append(related_weakness.attrib)\n",
    "            new_row['related_weaknesses'] = related_weaknesses\n",
    "\n",
    "        if child_name == 'Applicable_Platforms':\n",
    "            applicable_platforms_language = []\n",
    "            applicable_platforms_paradigm = []\n",
    "            applicable_platforms_technology = []\n",
    "            applicable_platforms_operating_system = []\n",
    "\n",
    "            for applicable_platform in weakness_child.getchildren():\n",
    "                cleared_tag = clear_child_name(applicable_platform.tag)\n",
    "                if cleared_tag == 'Language':\n",
    "                    applicable_platforms_language.append(\n",
    "                        applicable_platform.attrib)\n",
    "                elif cleared_tag == 'Paradigm':\n",
    "                    applicable_platforms_paradigm.append(\n",
    "                        applicable_platform.attrib)\n",
    "                elif cleared_tag == 'Technology':\n",
    "                    applicable_platforms_technology.append(\n",
    "                        applicable_platform.attrib)\n",
    "                elif cleared_tag == 'Operating_System':\n",
    "                    applicable_platforms_operating_system.append(\n",
    "                        applicable_platform.attrib)\n",
    "\n",
    "            new_row['applicable_platforms_language'] = applicable_platforms_language\n",
    "            new_row['applicable_platforms_paradigm'] = applicable_platforms_paradigm\n",
    "            new_row['applicable_platforms_technology'] = applicable_platforms_technology\n",
    "            new_row['applicable_platforms_operating_system'] = applicable_platforms_operating_system\n",
    "\n",
    "        if child_name == 'Background_Details':\n",
    "            background_details = []\n",
    "            for background_detail in weakness_child.getchildren():\n",
    "                background_details.append(background_detail.text)\n",
    "            new_row['background_details'] = background_details\n",
    "\n",
    "        if child_name == 'Modes_Of_Introduction':\n",
    "            modes_of_introduction = []\n",
    "            for mode_of_introduction in weakness_child.getchildren():\n",
    "                indroductions = {}\n",
    "                for indroduction in mode_of_introduction.getchildren():\n",
    "                    indroductions[clear_child_name(\n",
    "                        indroduction.tag)] = indroduction.text\n",
    "                modes_of_introduction.append(indroductions)\n",
    "            new_row['modes_of_introduction'] = modes_of_introduction\n",
    "\n",
    "        if child_name == 'Likelihood_Of_Exploit':\n",
    "            new_row['likelihood_of_exploit'] = weakness_child.text\n",
    "\n",
    "        if child_name == 'Common_Consequences':\n",
    "            scope_consequences = []\n",
    "            impact_consequences = []\n",
    "            note_consequences = []\n",
    "            for consequence in weakness_child.getchildren():\n",
    "                for consequence_element in consequence.getchildren():\n",
    "                    if clear_child_name(consequence_element.tag) == 'Scope':\n",
    "                        scope_consequences.append(consequence_element.text)\n",
    "                    elif clear_child_name(consequence_element.tag) == 'Impact':\n",
    "                        impact_consequences.append(consequence_element.text)\n",
    "                    elif clear_child_name(consequence_element.tag) == 'Note':\n",
    "                        note_consequences.append(consequence_element.text)\n",
    "\n",
    "            new_row['common_consequences_scope'] = scope_consequences\n",
    "            new_row['common_consequences_impact'] = impact_consequences\n",
    "            new_row['common_consequences_note'] = note_consequences\n",
    "\n",
    "        if child_name == 'Weakness_Ordinalities':\n",
    "            ordinalities = []\n",
    "            for ordinality in weakness_child.getchildren():\n",
    "                for ordinality_element in ordinality.getchildren():\n",
    "                    if clear_child_name(ordinality_element.tag) == 'Ordinality':\n",
    "                        ordinalities.append(ordinality_element.text)\n",
    "            new_row['weakness_ordinalities'] = ordinalities\n",
    "\n",
    "        if child_name == 'Alternate_Terms':\n",
    "            alternate_terms = []\n",
    "            for alternate_term in weakness_child.getchildren():\n",
    "                term_element = {}\n",
    "                for alternate_term_element in alternate_term.getchildren():\n",
    "                    term_element[clear_child_name(\n",
    "                        alternate_term_element.tag)] = alternate_term_element.text\n",
    "                alternate_terms.append(term_element)\n",
    "            new_row['alternate_terms'] = alternate_terms\n",
    "\n",
    "        if child_name == 'Taxonomy_Mappings':\n",
    "            taxonomy_mappings = []\n",
    "            for mapping in weakness_child.getchildren():\n",
    "                mapping_entry = mapping.attrib\n",
    "                for elements in mapping.getchildren():\n",
    "                    mapping_entry[clear_child_name(\n",
    "                        elements.tag)] = elements.text\n",
    "                taxonomy_mappings.append(mapping_entry)\n",
    "            new_row['taxonomy_mappings'] = taxonomy_mappings\n",
    "\n",
    "        if child_name == 'Related_Attack_Patterns':\n",
    "            capec_id_list = []\n",
    "            for related_attack in weakness_child.getchildren():\n",
    "                capec_id_list.append(int(related_attack.attrib['CAPEC_ID']))\n",
    "            new_row['related_attack_patterns'] = capec_id_list\n",
    "\n",
    "        if child_name == 'Affected_Resources':\n",
    "            affected_ressources = []\n",
    "            for affected_ressource in weakness_child.getchildren():\n",
    "                affected_ressources.append(affected_ressource.text)\n",
    "            new_row['affected_resources'] = affected_ressources\n",
    "\n",
    "        if child_name == 'Functional_Areas':\n",
    "            functional_areas = []\n",
    "            for functional_area in weakness_child.getchildren():\n",
    "                functional_areas.append(functional_area.text)\n",
    "            new_row['functional_areas'] = functional_areas\n",
    "\n",
    "    df_dict[dict_ct] = new_row\n",
    "    dict_ct += 1\n",
    "\n",
    "cwe_df = pd.DataFrame.from_dict(df_dict, \"index\")\n",
    "print('Loaded {} CWE entries.'.format(len(cwe_df)))"
   ]
  },
  {
   "cell_type": "markdown",
   "metadata": {},
   "source": [
    "### 1.C. CWE Parsing (Weakness Categories)<a class=\"anchor\" id=\"cwe_parsing_category\"></a>"
   ]
  },
  {
   "cell_type": "code",
   "execution_count": 9,
   "metadata": {
    "ExecuteTime": {
     "end_time": "2020-03-02T18:08:17.246806Z",
     "start_time": "2020-03-02T18:08:16.495632Z"
    }
   },
   "outputs": [],
   "source": [
    "cwe_data_dir = './data/cwe/'\n",
    "cwe_file_name = '/CWE_Development_Concepts.xml'\n",
    "etree = ET.parse(open(cwe_data_dir + cwe_file_name))\n",
    "cwe_xml = etree.getroot()"
   ]
  },
  {
   "cell_type": "code",
   "execution_count": 10,
   "metadata": {
    "ExecuteTime": {
     "end_time": "2020-03-02T18:08:17.252979Z",
     "start_time": "2020-03-02T18:08:17.248071Z"
    }
   },
   "outputs": [],
   "source": [
    "category_relation = []\n",
    "categories = cwe_xml.getchildren()[1]  # Categories\n",
    "\n",
    "# parse all categories\n",
    "for category in categories.getchildren():\n",
    "    category_id = category.attrib['ID']\n",
    "    category_name = category.attrib['Name']\n",
    "    category_decription = \"\"\n",
    "    category_member = []\n",
    "\n",
    "    for child in category.getchildren():\n",
    "        if 'Summary' in child.tag:\n",
    "            category_decription = child.text\n",
    "        if 'Relationships' in child.tag:\n",
    "            for member in child.getchildren():\n",
    "                category_member.append(member.attrib['CWE_ID'])\n",
    "    category_relation.append({'category_id': category_id,\n",
    "                              'category_name': category_name,\n",
    "                              'category_description': category_decription,\n",
    "                              'category_member': category_member})"
   ]
  },
  {
   "cell_type": "code",
   "execution_count": 11,
   "metadata": {
    "ExecuteTime": {
     "end_time": "2020-03-02T18:08:17.269648Z",
     "start_time": "2020-03-02T18:08:17.254969Z"
    }
   },
   "outputs": [
    {
     "name": "stdout",
     "output_type": "stream",
     "text": [
      "Loaded 41 CWE categories.\n"
     ]
    }
   ],
   "source": [
    "df_dict = {}\n",
    "dict_ct = 0\n",
    "\n",
    "row_prototype = dict.fromkeys(cwe_df.keys())\n",
    "# generate new rows of each category and add them to the DataFrame\n",
    "for category in category_relation:\n",
    "    new_row = row_prototype.copy()\n",
    "    row_prototype['id'] = category['category_id']\n",
    "    row_prototype['name'] = category['category_name']\n",
    "    row_prototype['abstraction'] = 'Category'\n",
    "    row_prototype['description'] = category['category_description']\n",
    "\n",
    "    member = []\n",
    "\n",
    "    for m in category['category_member']:\n",
    "        member.append({\n",
    "            'Nature': 'ChildOf',\n",
    "            'CWE_ID': m,\n",
    "            'View_ID': '',\n",
    "            'Ordinal': ''\n",
    "        })\n",
    "\n",
    "    row_prototype['related_weaknesses'] = member\n",
    "\n",
    "    if not new_row['id'] == None:\n",
    "        df_dict[dict_ct] = new_row\n",
    "        dict_ct += 1\n",
    "\n",
    "cwe_category_df = pd.DataFrame.from_dict(df_dict, \"index\")\n",
    "print('Loaded {} CWE categories.'.format(len(cwe_category_df)))"
   ]
  },
  {
   "cell_type": "markdown",
   "metadata": {},
   "source": [
    "<b>Add CWE Categorys to CWE-DataFrame</b>"
   ]
  },
  {
   "cell_type": "code",
   "execution_count": 12,
   "metadata": {
    "ExecuteTime": {
     "end_time": "2020-03-02T18:08:17.284721Z",
     "start_time": "2020-03-02T18:08:17.277250Z"
    }
   },
   "outputs": [],
   "source": [
    "cwe_df = cwe_df.append(cwe_category_df)\n",
    "cwe_df.id = cwe_df.id.astype(int)"
   ]
  },
  {
   "cell_type": "markdown",
   "metadata": {},
   "source": [
    "## 2. Merge CVE and CWE DataFrames<a class=\"anchor\" id=\"merge_cve_cwe\"></a>"
   ]
  },
  {
   "cell_type": "markdown",
   "metadata": {},
   "source": [
    "### 2.A. Preprocessing<a class=\"anchor\" id=\"cve_cwe_preprocessing\"></a>"
   ]
  },
  {
   "cell_type": "markdown",
   "metadata": {},
   "source": [
    "<b>Remove rejected CVEs</b>"
   ]
  },
  {
   "cell_type": "code",
   "execution_count": 13,
   "metadata": {
    "ExecuteTime": {
     "end_time": "2020-03-02T18:08:17.531582Z",
     "start_time": "2020-03-02T18:08:17.286841Z"
    }
   },
   "outputs": [
    {
     "name": "stdout",
     "output_type": "stream",
     "text": [
      "Removed 7852 rejected CVEs out of all 136486 CVEs\n"
     ]
    }
   ],
   "source": [
    "length_all_cve = len(cve_df)\n",
    "cve_df = cve_df[(~cve_df['cve_description'].str.contains('REJECT'))]\n",
    "print('Removed {} rejected CVEs out of all {} CVEs'.format(\n",
    "    length_all_cve - len(cve_df), length_all_cve))"
   ]
  },
  {
   "cell_type": "markdown",
   "metadata": {},
   "source": [
    "<b>Expand CWE Entries of CVE-DataFrame</b>\n",
    "<br>\n",
    "Entries with more than one CWE get expanded, so each row can be identified by a unique tuple of (CVE, CWE).<br>\n",
    "This step is needed to merge both datasets and for later processing steps.<br>"
   ]
  },
  {
   "cell_type": "code",
   "execution_count": 14,
   "metadata": {
    "ExecuteTime": {
     "end_time": "2020-03-02T18:08:17.836723Z",
     "start_time": "2020-03-02T18:08:17.533670Z"
    }
   },
   "outputs": [
    {
     "name": "stdout",
     "output_type": "stream",
     "text": [
      "Out of all 128634 CVEs 1430 contain more than one CWE\n"
     ]
    }
   ],
   "source": [
    "cve_df_one_cwe = cve_df[(cve_df['cwe_list'].str.len() == 1)]\n",
    "cve_df_multiple_cwe = cve_df[(cve_df['cwe_list'].str.len() > 1)]\n",
    "print(\"Out of all {} CVEs {} contain more than one CWE\".format(\n",
    "    len(cve_df), len(cve_df_multiple_cwe)))"
   ]
  },
  {
   "cell_type": "code",
   "execution_count": 15,
   "metadata": {
    "ExecuteTime": {
     "end_time": "2020-03-02T18:08:17.907416Z",
     "start_time": "2020-03-02T18:08:17.838548Z"
    }
   },
   "outputs": [],
   "source": [
    "# Convert column 'cwe_list' from type list to type string\n",
    "cve_df_one_cwe.loc[:, 'cwe_list'] = cve_df_one_cwe['cwe_list'].apply(''.join)"
   ]
  },
  {
   "cell_type": "code",
   "execution_count": 16,
   "metadata": {
    "ExecuteTime": {
     "end_time": "2020-03-02T18:08:18.915736Z",
     "start_time": "2020-03-02T18:08:17.910032Z"
    }
   },
   "outputs": [],
   "source": [
    "cve_expanded_df_dict = {}\n",
    "\n",
    "i = 0\n",
    "for idx, row in cve_df_multiple_cwe.iterrows():\n",
    "    for cwe_item in row['cwe_list']:\n",
    "        if cwe_item == 'NVD-CWE-noinfo':\n",
    "            continue\n",
    "        insertion_row = row.copy()\n",
    "        insertion_row['cwe_list'] = cwe_item\n",
    "        cve_expanded_df_dict[i] = insertion_row\n",
    "        i += 1\n",
    "\n",
    "cve_expanded_df = pd.DataFrame.from_dict(cve_expanded_df_dict, \"index\")\n",
    "cve_df = cve_expanded_df.append(cve_df_one_cwe)"
   ]
  },
  {
   "cell_type": "markdown",
   "metadata": {},
   "source": [
    "<b>Convert CWE-ID type</b><br>\n",
    "Convert the 'cwe_id' column from type string to an integer. Therefore the prefix 'CWE-' has to be removed. e.g. Convert 'CWE-20' to '20'"
   ]
  },
  {
   "cell_type": "code",
   "execution_count": 17,
   "metadata": {
    "ExecuteTime": {
     "end_time": "2020-03-02T18:08:19.005237Z",
     "start_time": "2020-03-02T18:08:18.917747Z"
    }
   },
   "outputs": [],
   "source": [
    "def convert_cwe_id(cwe_string):\n",
    "    if cwe_string[:4] == 'CWE-':\n",
    "        return int(cwe_string[4:])\n",
    "    else:\n",
    "        return None\n",
    "\n",
    "\n",
    "cve_df['cwe_id'] = cve_df['cwe_list'].apply(convert_cwe_id)"
   ]
  },
  {
   "cell_type": "markdown",
   "metadata": {},
   "source": [
    "### 2.B. Merge DataFrames<a class=\"anchor\" id=\"cve_cwe_merge\"></a><br>\n",
    "Both DataFrames get merged by using the unique 'cwe_id' identifier. To avoid overlapping column names, all columns from the CWE-DataFrame receive the 'cwe_' prefix."
   ]
  },
  {
   "cell_type": "code",
   "execution_count": 18,
   "metadata": {
    "ExecuteTime": {
     "end_time": "2020-03-02T18:08:19.281885Z",
     "start_time": "2020-03-02T18:08:19.007381Z"
    }
   },
   "outputs": [],
   "source": [
    "df = cve_df.merge(cwe_df.add_prefix('cwe_'), how='left',\n",
    "                  left_on='cwe_id', right_on='cwe_id')"
   ]
  },
  {
   "cell_type": "markdown",
   "metadata": {},
   "source": [
    "### 2.C. Inspection of the combined DataFrame<a class=\"anchor\" id=\"analyze_merged_dataframe\"></a>"
   ]
  },
  {
   "cell_type": "code",
   "execution_count": 19,
   "metadata": {
    "ExecuteTime": {
     "end_time": "2020-03-02T17:07:11.801213Z",
     "start_time": "2020-03-02T17:07:11.297220Z"
    }
   },
   "outputs": [
    {
     "data": {
      "text/html": [
       "<div>\n",
       "<style scoped>\n",
       "    .dataframe tbody tr th:only-of-type {\n",
       "        vertical-align: middle;\n",
       "    }\n",
       "\n",
       "    .dataframe tbody tr th {\n",
       "        vertical-align: top;\n",
       "    }\n",
       "\n",
       "    .dataframe thead th {\n",
       "        text-align: right;\n",
       "    }\n",
       "</style>\n",
       "<table border=\"1\" class=\"dataframe\">\n",
       "  <thead>\n",
       "    <tr style=\"text-align: right;\">\n",
       "      <th></th>\n",
       "      <th>cve_id</th>\n",
       "      <th>cve_data_type</th>\n",
       "      <th>cve_data_format</th>\n",
       "      <th>cve_data_version</th>\n",
       "      <th>cve_published_date</th>\n",
       "      <th>cve_last_modified_date</th>\n",
       "      <th>cve_description</th>\n",
       "      <th>cwe_list</th>\n",
       "      <th>cpe_list</th>\n",
       "      <th>has_cvssV2_scoring</th>\n",
       "      <th>cvssV2_version</th>\n",
       "      <th>cvssV2_vector_string</th>\n",
       "      <th>cvssV2_access_vector</th>\n",
       "      <th>cvssV2_access_complexity</th>\n",
       "      <th>cvssV2_authentication</th>\n",
       "      <th>cvssV2_confidentiality_impact</th>\n",
       "      <th>cvssV2_integrity_impact</th>\n",
       "      <th>cvssV2_availability_impact</th>\n",
       "      <th>cvssV2_base_score</th>\n",
       "      <th>cvssV2_severity</th>\n",
       "      <th>cvssV2_exploitability_score</th>\n",
       "      <th>cvssV2_impact_score</th>\n",
       "      <th>cvssV2_obtain_all_privilege</th>\n",
       "      <th>cvssV2_obtain_user_privilege</th>\n",
       "      <th>cvssV2_obtain_other_privilege</th>\n",
       "      <th>cvssV2_user_interaction_required</th>\n",
       "      <th>has_cvssV3_scoring</th>\n",
       "      <th>cvssV3_version</th>\n",
       "      <th>cvssV3_vector_string</th>\n",
       "      <th>cvssV3_attack_vector</th>\n",
       "      <th>cvssV3_attack_complexity</th>\n",
       "      <th>cvssV3_privileges_required</th>\n",
       "      <th>cvssV3_user_interaction_required</th>\n",
       "      <th>cvssV3_scope</th>\n",
       "      <th>cvssV3_confidentiality_impact</th>\n",
       "      <th>cvssV3_integrity_impact</th>\n",
       "      <th>cvssV3_availability_impact</th>\n",
       "      <th>cvssV3_base_score</th>\n",
       "      <th>cvssV3_base_severity</th>\n",
       "      <th>cvssV3_exploitability_score</th>\n",
       "      <th>cvssV3_impact_score</th>\n",
       "      <th>cwe_id</th>\n",
       "      <th>cwe_name</th>\n",
       "      <th>cwe_abstraction</th>\n",
       "      <th>cwe_structure</th>\n",
       "      <th>cwe_status</th>\n",
       "      <th>cwe_description</th>\n",
       "      <th>cwe_extended_description</th>\n",
       "      <th>cwe_related_weaknesses</th>\n",
       "      <th>cwe_applicable_platforms_language</th>\n",
       "      <th>cwe_applicable_platforms_paradigm</th>\n",
       "      <th>cwe_applicable_platforms_technology</th>\n",
       "      <th>cwe_applicable_platforms_operating_system</th>\n",
       "      <th>cwe_background_details</th>\n",
       "      <th>cwe_modes_of_introduction</th>\n",
       "      <th>cwe_likelihood_of_exploit</th>\n",
       "      <th>cwe_common_consequences_scope</th>\n",
       "      <th>cwe_common_consequences_impact</th>\n",
       "      <th>cwe_common_consequences_note</th>\n",
       "      <th>cwe_weakness_ordinalities</th>\n",
       "      <th>cwe_alternate_terms</th>\n",
       "      <th>cwe_taxonomy_mappings</th>\n",
       "      <th>cwe_related_attack_patterns</th>\n",
       "      <th>cwe_affected_resources</th>\n",
       "      <th>cwe_functional_areas</th>\n",
       "    </tr>\n",
       "  </thead>\n",
       "  <tbody>\n",
       "    <tr>\n",
       "      <th>38553</th>\n",
       "      <td>CVE-2001-0699</td>\n",
       "      <td>CVE</td>\n",
       "      <td>MITRE</td>\n",
       "      <td>4.0</td>\n",
       "      <td>2001-09-20T04:00Z</td>\n",
       "      <td>2018-10-30T16:25Z</td>\n",
       "      <td>Buffer overflow in cb_reset in the System Serv...</td>\n",
       "      <td>NVD-CWE-Other</td>\n",
       "      <td>[(cpe:2.3:o:sun:sunos:5.8:*:*:*:*:*:*:*,)]</td>\n",
       "      <td>True</td>\n",
       "      <td>2.0</td>\n",
       "      <td>AV:L/AC:L/Au:N/C:C/I:C/A:C</td>\n",
       "      <td>LOCAL</td>\n",
       "      <td>LOW</td>\n",
       "      <td>NONE</td>\n",
       "      <td>COMPLETE</td>\n",
       "      <td>COMPLETE</td>\n",
       "      <td>COMPLETE</td>\n",
       "      <td>7.2</td>\n",
       "      <td>HIGH</td>\n",
       "      <td>3.9</td>\n",
       "      <td>10</td>\n",
       "      <td>True</td>\n",
       "      <td>False</td>\n",
       "      <td>False</td>\n",
       "      <td>False</td>\n",
       "      <td>False</td>\n",
       "      <td></td>\n",
       "      <td></td>\n",
       "      <td></td>\n",
       "      <td></td>\n",
       "      <td></td>\n",
       "      <td></td>\n",
       "      <td></td>\n",
       "      <td></td>\n",
       "      <td></td>\n",
       "      <td></td>\n",
       "      <td></td>\n",
       "      <td></td>\n",
       "      <td></td>\n",
       "      <td></td>\n",
       "      <td>NaN</td>\n",
       "      <td>NaN</td>\n",
       "      <td>NaN</td>\n",
       "      <td>NaN</td>\n",
       "      <td>NaN</td>\n",
       "      <td>NaN</td>\n",
       "      <td>NaN</td>\n",
       "      <td>NaN</td>\n",
       "      <td>NaN</td>\n",
       "      <td>NaN</td>\n",
       "      <td>NaN</td>\n",
       "      <td>NaN</td>\n",
       "      <td>NaN</td>\n",
       "      <td>NaN</td>\n",
       "      <td>NaN</td>\n",
       "      <td>NaN</td>\n",
       "      <td>NaN</td>\n",
       "      <td>NaN</td>\n",
       "      <td>NaN</td>\n",
       "      <td>NaN</td>\n",
       "      <td>NaN</td>\n",
       "      <td>NaN</td>\n",
       "      <td>NaN</td>\n",
       "      <td>NaN</td>\n",
       "    </tr>\n",
       "    <tr>\n",
       "      <th>117400</th>\n",
       "      <td>CVE-2013-0887</td>\n",
       "      <td>CVE</td>\n",
       "      <td>MITRE</td>\n",
       "      <td>4.0</td>\n",
       "      <td>2013-02-23T21:55Z</td>\n",
       "      <td>2017-09-19T01:35Z</td>\n",
       "      <td>The developer-tools process in Google Chrome b...</td>\n",
       "      <td>CWE-264</td>\n",
       "      <td>[]</td>\n",
       "      <td>True</td>\n",
       "      <td>2.0</td>\n",
       "      <td>AV:N/AC:L/Au:N/C:P/I:P/A:P</td>\n",
       "      <td>NETWORK</td>\n",
       "      <td>LOW</td>\n",
       "      <td>NONE</td>\n",
       "      <td>PARTIAL</td>\n",
       "      <td>PARTIAL</td>\n",
       "      <td>PARTIAL</td>\n",
       "      <td>7.5</td>\n",
       "      <td>HIGH</td>\n",
       "      <td>10</td>\n",
       "      <td>6.4</td>\n",
       "      <td>False</td>\n",
       "      <td>False</td>\n",
       "      <td>False</td>\n",
       "      <td>False</td>\n",
       "      <td>False</td>\n",
       "      <td></td>\n",
       "      <td></td>\n",
       "      <td></td>\n",
       "      <td></td>\n",
       "      <td></td>\n",
       "      <td></td>\n",
       "      <td></td>\n",
       "      <td></td>\n",
       "      <td></td>\n",
       "      <td></td>\n",
       "      <td></td>\n",
       "      <td></td>\n",
       "      <td></td>\n",
       "      <td></td>\n",
       "      <td>264.0</td>\n",
       "      <td>Permissions, Privileges, and Access Controls</td>\n",
       "      <td>Category</td>\n",
       "      <td>None</td>\n",
       "      <td>None</td>\n",
       "      <td>Weaknesses in this category are related to the...</td>\n",
       "      <td>None</td>\n",
       "      <td>[{'Nature': 'ChildOf', 'CWE_ID': '265', 'View_...</td>\n",
       "      <td>None</td>\n",
       "      <td>None</td>\n",
       "      <td>None</td>\n",
       "      <td>None</td>\n",
       "      <td>None</td>\n",
       "      <td>None</td>\n",
       "      <td>None</td>\n",
       "      <td>None</td>\n",
       "      <td>None</td>\n",
       "      <td>None</td>\n",
       "      <td>None</td>\n",
       "      <td>None</td>\n",
       "      <td>None</td>\n",
       "      <td>None</td>\n",
       "      <td>None</td>\n",
       "      <td>None</td>\n",
       "    </tr>\n",
       "    <tr>\n",
       "      <th>113069</th>\n",
       "      <td>CVE-2018-4956</td>\n",
       "      <td>CVE</td>\n",
       "      <td>MITRE</td>\n",
       "      <td>4.0</td>\n",
       "      <td>2018-07-09T19:29Z</td>\n",
       "      <td>2019-08-21T16:20Z</td>\n",
       "      <td>Adobe Acrobat and Reader versions 2018.011.200...</td>\n",
       "      <td>CWE-125</td>\n",
       "      <td>[]</td>\n",
       "      <td>True</td>\n",
       "      <td>2.0</td>\n",
       "      <td>AV:N/AC:L/Au:N/C:P/I:N/A:N</td>\n",
       "      <td>NETWORK</td>\n",
       "      <td>LOW</td>\n",
       "      <td>NONE</td>\n",
       "      <td>PARTIAL</td>\n",
       "      <td>NONE</td>\n",
       "      <td>NONE</td>\n",
       "      <td>5</td>\n",
       "      <td>MEDIUM</td>\n",
       "      <td>10</td>\n",
       "      <td>2.9</td>\n",
       "      <td>False</td>\n",
       "      <td>False</td>\n",
       "      <td>False</td>\n",
       "      <td>False</td>\n",
       "      <td>True</td>\n",
       "      <td>3.0</td>\n",
       "      <td>CVSS:3.0/AV:N/AC:L/PR:N/UI:N/S:U/C:H/I:N/A:N</td>\n",
       "      <td>NETWORK</td>\n",
       "      <td>LOW</td>\n",
       "      <td>NONE</td>\n",
       "      <td>NONE</td>\n",
       "      <td>UNCHANGED</td>\n",
       "      <td>HIGH</td>\n",
       "      <td>NONE</td>\n",
       "      <td>NONE</td>\n",
       "      <td>7.5</td>\n",
       "      <td>HIGH</td>\n",
       "      <td>3.9</td>\n",
       "      <td>3.6</td>\n",
       "      <td>125.0</td>\n",
       "      <td>Out-of-bounds Read</td>\n",
       "      <td>Base</td>\n",
       "      <td>Simple</td>\n",
       "      <td>Draft</td>\n",
       "      <td>The software reads data past the end, or befor...</td>\n",
       "      <td>Typically, this can allow attackers to read se...</td>\n",
       "      <td>[{'Nature': 'ChildOf', 'CWE_ID': '119', 'View_...</td>\n",
       "      <td>[{'Name': 'C', 'Prevalence': 'Undetermined'}, ...</td>\n",
       "      <td>[]</td>\n",
       "      <td>[]</td>\n",
       "      <td>[]</td>\n",
       "      <td>None</td>\n",
       "      <td>[{'Phase': 'Implementation'}]</td>\n",
       "      <td>None</td>\n",
       "      <td>[Confidentiality, Confidentiality]</td>\n",
       "      <td>[Read Memory, Bypass Protection Mechanism]</td>\n",
       "      <td>[By reading out-of-bounds memory, an attacker ...</td>\n",
       "      <td>[Primary]</td>\n",
       "      <td>None</td>\n",
       "      <td>[{'Taxonomy_Name': 'PLOVER', 'Entry_Name': 'Ou...</td>\n",
       "      <td>[537, 540]</td>\n",
       "      <td>None</td>\n",
       "      <td>None</td>\n",
       "    </tr>\n",
       "    <tr>\n",
       "      <th>141343</th>\n",
       "      <td>CVE-2019-7353</td>\n",
       "      <td>CVE</td>\n",
       "      <td>MITRE</td>\n",
       "      <td>4.0</td>\n",
       "      <td>2019-05-17T17:29Z</td>\n",
       "      <td>2019-09-09T19:15Z</td>\n",
       "      <td>An Incorrect Access Control issue was discover...</td>\n",
       "      <td>CWE-284</td>\n",
       "      <td>[(cpe:2.3:a:gitlab:gitlab:*:*:*:*:community:*:...</td>\n",
       "      <td>True</td>\n",
       "      <td>2.0</td>\n",
       "      <td>AV:N/AC:L/Au:N/C:P/I:P/A:N</td>\n",
       "      <td>NETWORK</td>\n",
       "      <td>LOW</td>\n",
       "      <td>NONE</td>\n",
       "      <td>PARTIAL</td>\n",
       "      <td>PARTIAL</td>\n",
       "      <td>NONE</td>\n",
       "      <td>6.4</td>\n",
       "      <td>MEDIUM</td>\n",
       "      <td>10</td>\n",
       "      <td>4.9</td>\n",
       "      <td>False</td>\n",
       "      <td>False</td>\n",
       "      <td>False</td>\n",
       "      <td>False</td>\n",
       "      <td>True</td>\n",
       "      <td>3.0</td>\n",
       "      <td>CVSS:3.0/AV:N/AC:L/PR:N/UI:N/S:U/C:H/I:H/A:N</td>\n",
       "      <td>NETWORK</td>\n",
       "      <td>LOW</td>\n",
       "      <td>NONE</td>\n",
       "      <td>NONE</td>\n",
       "      <td>UNCHANGED</td>\n",
       "      <td>HIGH</td>\n",
       "      <td>HIGH</td>\n",
       "      <td>NONE</td>\n",
       "      <td>9.1</td>\n",
       "      <td>CRITICAL</td>\n",
       "      <td>3.9</td>\n",
       "      <td>5.2</td>\n",
       "      <td>284.0</td>\n",
       "      <td>Improper Access Control</td>\n",
       "      <td>Class</td>\n",
       "      <td>Simple</td>\n",
       "      <td>Incomplete</td>\n",
       "      <td>The software does not restrict or incorrectly ...</td>\n",
       "      <td>\\n</td>\n",
       "      <td>[{'Nature': 'ChildOf', 'CWE_ID': '693', 'View_...</td>\n",
       "      <td>None</td>\n",
       "      <td>None</td>\n",
       "      <td>None</td>\n",
       "      <td>None</td>\n",
       "      <td>None</td>\n",
       "      <td>[{'Phase': 'Architecture and Design'}, {'Phase...</td>\n",
       "      <td>None</td>\n",
       "      <td>[Other]</td>\n",
       "      <td>[Varies by Context]</td>\n",
       "      <td>[]</td>\n",
       "      <td>None</td>\n",
       "      <td>[{'Term': 'Authorization', 'Description': 'The...</td>\n",
       "      <td>[{'Taxonomy_Name': 'PLOVER', 'Entry_Name': 'Ac...</td>\n",
       "      <td>[19, 441, 478, 479, 502, 503, 536, 546, 550, 5...</td>\n",
       "      <td>[File or Directory]</td>\n",
       "      <td>None</td>\n",
       "    </tr>\n",
       "    <tr>\n",
       "      <th>30044</th>\n",
       "      <td>CVE-2017-2999</td>\n",
       "      <td>CVE</td>\n",
       "      <td>MITRE</td>\n",
       "      <td>4.0</td>\n",
       "      <td>2017-03-14T16:59Z</td>\n",
       "      <td>2018-01-05T02:31Z</td>\n",
       "      <td>Adobe Flash Player versions 24.0.0.221 and ear...</td>\n",
       "      <td>CWE-119</td>\n",
       "      <td>[]</td>\n",
       "      <td>True</td>\n",
       "      <td>2.0</td>\n",
       "      <td>AV:N/AC:L/Au:N/C:C/I:C/A:C</td>\n",
       "      <td>NETWORK</td>\n",
       "      <td>LOW</td>\n",
       "      <td>NONE</td>\n",
       "      <td>COMPLETE</td>\n",
       "      <td>COMPLETE</td>\n",
       "      <td>COMPLETE</td>\n",
       "      <td>10</td>\n",
       "      <td>HIGH</td>\n",
       "      <td>10</td>\n",
       "      <td>10</td>\n",
       "      <td>False</td>\n",
       "      <td>False</td>\n",
       "      <td>False</td>\n",
       "      <td>False</td>\n",
       "      <td>True</td>\n",
       "      <td>3.0</td>\n",
       "      <td>CVSS:3.0/AV:N/AC:L/PR:N/UI:N/S:U/C:H/I:H/A:H</td>\n",
       "      <td>NETWORK</td>\n",
       "      <td>LOW</td>\n",
       "      <td>NONE</td>\n",
       "      <td>NONE</td>\n",
       "      <td>UNCHANGED</td>\n",
       "      <td>HIGH</td>\n",
       "      <td>HIGH</td>\n",
       "      <td>HIGH</td>\n",
       "      <td>9.8</td>\n",
       "      <td>CRITICAL</td>\n",
       "      <td>3.9</td>\n",
       "      <td>5.9</td>\n",
       "      <td>119.0</td>\n",
       "      <td>Improper Restriction of Operations within the ...</td>\n",
       "      <td>Class</td>\n",
       "      <td>Simple</td>\n",
       "      <td>Stable</td>\n",
       "      <td>The software performs operations on a memory b...</td>\n",
       "      <td>\\n</td>\n",
       "      <td>[{'Nature': 'ChildOf', 'CWE_ID': '118', 'View_...</td>\n",
       "      <td>[{'Name': 'C', 'Prevalence': 'Often'}, {'Name'...</td>\n",
       "      <td>[]</td>\n",
       "      <td>[]</td>\n",
       "      <td>[]</td>\n",
       "      <td>None</td>\n",
       "      <td>[{'Phase': 'Architecture and Design'}, {'Phase...</td>\n",
       "      <td>High</td>\n",
       "      <td>[Integrity, Confidentiality, Availability, Ava...</td>\n",
       "      <td>[Execute Unauthorized Code or Commands, Modify...</td>\n",
       "      <td>[If the memory accessible by the attacker can ...</td>\n",
       "      <td>None</td>\n",
       "      <td>[{'Term': 'Memory Corruption', 'Description': ...</td>\n",
       "      <td>[{'Taxonomy_Name': 'OWASP Top Ten 2004', 'Entr...</td>\n",
       "      <td>[10, 100, 123, 14, 24, 42, 44, 45, 46, 47, 8, 9]</td>\n",
       "      <td>[Memory]</td>\n",
       "      <td>None</td>\n",
       "    </tr>\n",
       "  </tbody>\n",
       "</table>\n",
       "</div>"
      ],
      "text/plain": [
       "               cve_id cve_data_type cve_data_format cve_data_version  \\\n",
       "38553   CVE-2001-0699           CVE           MITRE              4.0   \n",
       "117400  CVE-2013-0887           CVE           MITRE              4.0   \n",
       "113069  CVE-2018-4956           CVE           MITRE              4.0   \n",
       "141343  CVE-2019-7353           CVE           MITRE              4.0   \n",
       "30044   CVE-2017-2999           CVE           MITRE              4.0   \n",
       "\n",
       "       cve_published_date cve_last_modified_date  \\\n",
       "38553   2001-09-20T04:00Z      2018-10-30T16:25Z   \n",
       "117400  2013-02-23T21:55Z      2017-09-19T01:35Z   \n",
       "113069  2018-07-09T19:29Z      2019-08-21T16:20Z   \n",
       "141343  2019-05-17T17:29Z      2019-09-09T19:15Z   \n",
       "30044   2017-03-14T16:59Z      2018-01-05T02:31Z   \n",
       "\n",
       "                                          cve_description       cwe_list  \\\n",
       "38553   Buffer overflow in cb_reset in the System Serv...  NVD-CWE-Other   \n",
       "117400  The developer-tools process in Google Chrome b...        CWE-264   \n",
       "113069  Adobe Acrobat and Reader versions 2018.011.200...        CWE-125   \n",
       "141343  An Incorrect Access Control issue was discover...        CWE-284   \n",
       "30044   Adobe Flash Player versions 24.0.0.221 and ear...        CWE-119   \n",
       "\n",
       "                                                 cpe_list  has_cvssV2_scoring  \\\n",
       "38553          [(cpe:2.3:o:sun:sunos:5.8:*:*:*:*:*:*:*,)]                True   \n",
       "117400                                                 []                True   \n",
       "113069                                                 []                True   \n",
       "141343  [(cpe:2.3:a:gitlab:gitlab:*:*:*:*:community:*:...                True   \n",
       "30044                                                  []                True   \n",
       "\n",
       "       cvssV2_version        cvssV2_vector_string cvssV2_access_vector  \\\n",
       "38553             2.0  AV:L/AC:L/Au:N/C:C/I:C/A:C                LOCAL   \n",
       "117400            2.0  AV:N/AC:L/Au:N/C:P/I:P/A:P              NETWORK   \n",
       "113069            2.0  AV:N/AC:L/Au:N/C:P/I:N/A:N              NETWORK   \n",
       "141343            2.0  AV:N/AC:L/Au:N/C:P/I:P/A:N              NETWORK   \n",
       "30044             2.0  AV:N/AC:L/Au:N/C:C/I:C/A:C              NETWORK   \n",
       "\n",
       "       cvssV2_access_complexity cvssV2_authentication  \\\n",
       "38553                       LOW                  NONE   \n",
       "117400                      LOW                  NONE   \n",
       "113069                      LOW                  NONE   \n",
       "141343                      LOW                  NONE   \n",
       "30044                       LOW                  NONE   \n",
       "\n",
       "       cvssV2_confidentiality_impact cvssV2_integrity_impact  \\\n",
       "38553                       COMPLETE                COMPLETE   \n",
       "117400                       PARTIAL                 PARTIAL   \n",
       "113069                       PARTIAL                    NONE   \n",
       "141343                       PARTIAL                 PARTIAL   \n",
       "30044                       COMPLETE                COMPLETE   \n",
       "\n",
       "       cvssV2_availability_impact cvssV2_base_score cvssV2_severity  \\\n",
       "38553                    COMPLETE               7.2            HIGH   \n",
       "117400                    PARTIAL               7.5            HIGH   \n",
       "113069                       NONE                 5          MEDIUM   \n",
       "141343                       NONE               6.4          MEDIUM   \n",
       "30044                    COMPLETE                10            HIGH   \n",
       "\n",
       "       cvssV2_exploitability_score cvssV2_impact_score  \\\n",
       "38553                          3.9                  10   \n",
       "117400                          10                 6.4   \n",
       "113069                          10                 2.9   \n",
       "141343                          10                 4.9   \n",
       "30044                           10                  10   \n",
       "\n",
       "       cvssV2_obtain_all_privilege cvssV2_obtain_user_privilege  \\\n",
       "38553                         True                        False   \n",
       "117400                       False                        False   \n",
       "113069                       False                        False   \n",
       "141343                       False                        False   \n",
       "30044                        False                        False   \n",
       "\n",
       "       cvssV2_obtain_other_privilege cvssV2_user_interaction_required  \\\n",
       "38553                          False                            False   \n",
       "117400                         False                            False   \n",
       "113069                         False                            False   \n",
       "141343                         False                            False   \n",
       "30044                          False                            False   \n",
       "\n",
       "        has_cvssV3_scoring cvssV3_version  \\\n",
       "38553                False                  \n",
       "117400               False                  \n",
       "113069                True            3.0   \n",
       "141343                True            3.0   \n",
       "30044                 True            3.0   \n",
       "\n",
       "                                cvssV3_vector_string cvssV3_attack_vector  \\\n",
       "38553                                                                       \n",
       "117400                                                                      \n",
       "113069  CVSS:3.0/AV:N/AC:L/PR:N/UI:N/S:U/C:H/I:N/A:N              NETWORK   \n",
       "141343  CVSS:3.0/AV:N/AC:L/PR:N/UI:N/S:U/C:H/I:H/A:N              NETWORK   \n",
       "30044   CVSS:3.0/AV:N/AC:L/PR:N/UI:N/S:U/C:H/I:H/A:H              NETWORK   \n",
       "\n",
       "       cvssV3_attack_complexity cvssV3_privileges_required  \\\n",
       "38553                                                        \n",
       "117400                                                       \n",
       "113069                      LOW                       NONE   \n",
       "141343                      LOW                       NONE   \n",
       "30044                       LOW                       NONE   \n",
       "\n",
       "       cvssV3_user_interaction_required cvssV3_scope  \\\n",
       "38553                                                  \n",
       "117400                                                 \n",
       "113069                             NONE    UNCHANGED   \n",
       "141343                             NONE    UNCHANGED   \n",
       "30044                              NONE    UNCHANGED   \n",
       "\n",
       "       cvssV3_confidentiality_impact cvssV3_integrity_impact  \\\n",
       "38553                                                          \n",
       "117400                                                         \n",
       "113069                          HIGH                    NONE   \n",
       "141343                          HIGH                    HIGH   \n",
       "30044                           HIGH                    HIGH   \n",
       "\n",
       "       cvssV3_availability_impact cvssV3_base_score cvssV3_base_severity  \\\n",
       "38553                                                                      \n",
       "117400                                                                     \n",
       "113069                       NONE               7.5                 HIGH   \n",
       "141343                       NONE               9.1             CRITICAL   \n",
       "30044                        HIGH               9.8             CRITICAL   \n",
       "\n",
       "       cvssV3_exploitability_score cvssV3_impact_score  cwe_id  \\\n",
       "38553                                                      NaN   \n",
       "117400                                                   264.0   \n",
       "113069                         3.9                 3.6   125.0   \n",
       "141343                         3.9                 5.2   284.0   \n",
       "30044                          3.9                 5.9   119.0   \n",
       "\n",
       "                                                 cwe_name cwe_abstraction  \\\n",
       "38553                                                 NaN             NaN   \n",
       "117400       Permissions, Privileges, and Access Controls        Category   \n",
       "113069                                 Out-of-bounds Read            Base   \n",
       "141343                            Improper Access Control           Class   \n",
       "30044   Improper Restriction of Operations within the ...           Class   \n",
       "\n",
       "       cwe_structure  cwe_status  \\\n",
       "38553            NaN         NaN   \n",
       "117400          None        None   \n",
       "113069        Simple       Draft   \n",
       "141343        Simple  Incomplete   \n",
       "30044         Simple      Stable   \n",
       "\n",
       "                                          cwe_description  \\\n",
       "38553                                                 NaN   \n",
       "117400  Weaknesses in this category are related to the...   \n",
       "113069  The software reads data past the end, or befor...   \n",
       "141343  The software does not restrict or incorrectly ...   \n",
       "30044   The software performs operations on a memory b...   \n",
       "\n",
       "                                 cwe_extended_description  \\\n",
       "38553                                                 NaN   \n",
       "117400                                               None   \n",
       "113069  Typically, this can allow attackers to read se...   \n",
       "141343                                     \\n               \n",
       "30044                                      \\n               \n",
       "\n",
       "                                   cwe_related_weaknesses  \\\n",
       "38553                                                 NaN   \n",
       "117400  [{'Nature': 'ChildOf', 'CWE_ID': '265', 'View_...   \n",
       "113069  [{'Nature': 'ChildOf', 'CWE_ID': '119', 'View_...   \n",
       "141343  [{'Nature': 'ChildOf', 'CWE_ID': '693', 'View_...   \n",
       "30044   [{'Nature': 'ChildOf', 'CWE_ID': '118', 'View_...   \n",
       "\n",
       "                        cwe_applicable_platforms_language  \\\n",
       "38553                                                 NaN   \n",
       "117400                                               None   \n",
       "113069  [{'Name': 'C', 'Prevalence': 'Undetermined'}, ...   \n",
       "141343                                               None   \n",
       "30044   [{'Name': 'C', 'Prevalence': 'Often'}, {'Name'...   \n",
       "\n",
       "       cwe_applicable_platforms_paradigm cwe_applicable_platforms_technology  \\\n",
       "38553                                NaN                                 NaN   \n",
       "117400                              None                                None   \n",
       "113069                                []                                  []   \n",
       "141343                              None                                None   \n",
       "30044                                 []                                  []   \n",
       "\n",
       "       cwe_applicable_platforms_operating_system cwe_background_details  \\\n",
       "38553                                        NaN                    NaN   \n",
       "117400                                      None                   None   \n",
       "113069                                        []                   None   \n",
       "141343                                      None                   None   \n",
       "30044                                         []                   None   \n",
       "\n",
       "                                cwe_modes_of_introduction  \\\n",
       "38553                                                 NaN   \n",
       "117400                                               None   \n",
       "113069                      [{'Phase': 'Implementation'}]   \n",
       "141343  [{'Phase': 'Architecture and Design'}, {'Phase...   \n",
       "30044   [{'Phase': 'Architecture and Design'}, {'Phase...   \n",
       "\n",
       "       cwe_likelihood_of_exploit  \\\n",
       "38553                        NaN   \n",
       "117400                      None   \n",
       "113069                      None   \n",
       "141343                      None   \n",
       "30044                       High   \n",
       "\n",
       "                            cwe_common_consequences_scope  \\\n",
       "38553                                                 NaN   \n",
       "117400                                               None   \n",
       "113069                 [Confidentiality, Confidentiality]   \n",
       "141343                                            [Other]   \n",
       "30044   [Integrity, Confidentiality, Availability, Ava...   \n",
       "\n",
       "                           cwe_common_consequences_impact  \\\n",
       "38553                                                 NaN   \n",
       "117400                                               None   \n",
       "113069         [Read Memory, Bypass Protection Mechanism]   \n",
       "141343                                [Varies by Context]   \n",
       "30044   [Execute Unauthorized Code or Commands, Modify...   \n",
       "\n",
       "                             cwe_common_consequences_note  \\\n",
       "38553                                                 NaN   \n",
       "117400                                               None   \n",
       "113069  [By reading out-of-bounds memory, an attacker ...   \n",
       "141343                                                 []   \n",
       "30044   [If the memory accessible by the attacker can ...   \n",
       "\n",
       "       cwe_weakness_ordinalities  \\\n",
       "38553                        NaN   \n",
       "117400                      None   \n",
       "113069                 [Primary]   \n",
       "141343                      None   \n",
       "30044                       None   \n",
       "\n",
       "                                      cwe_alternate_terms  \\\n",
       "38553                                                 NaN   \n",
       "117400                                               None   \n",
       "113069                                               None   \n",
       "141343  [{'Term': 'Authorization', 'Description': 'The...   \n",
       "30044   [{'Term': 'Memory Corruption', 'Description': ...   \n",
       "\n",
       "                                    cwe_taxonomy_mappings  \\\n",
       "38553                                                 NaN   \n",
       "117400                                               None   \n",
       "113069  [{'Taxonomy_Name': 'PLOVER', 'Entry_Name': 'Ou...   \n",
       "141343  [{'Taxonomy_Name': 'PLOVER', 'Entry_Name': 'Ac...   \n",
       "30044   [{'Taxonomy_Name': 'OWASP Top Ten 2004', 'Entr...   \n",
       "\n",
       "                              cwe_related_attack_patterns  \\\n",
       "38553                                                 NaN   \n",
       "117400                                               None   \n",
       "113069                                         [537, 540]   \n",
       "141343  [19, 441, 478, 479, 502, 503, 536, 546, 550, 5...   \n",
       "30044    [10, 100, 123, 14, 24, 42, 44, 45, 46, 47, 8, 9]   \n",
       "\n",
       "       cwe_affected_resources cwe_functional_areas  \n",
       "38553                     NaN                  NaN  \n",
       "117400                   None                 None  \n",
       "113069                   None                 None  \n",
       "141343    [File or Directory]                 None  \n",
       "30044                [Memory]                 None  "
      ]
     },
     "execution_count": 20,
     "metadata": {},
     "output_type": "execute_result"
    }
   ],
   "source": [
    "pd.set_option('max_columns', 66)\n",
    "df.sample(5)"
   ]
  },
  {
   "cell_type": "code",
   "execution_count": 21,
   "metadata": {
    "ExecuteTime": {
     "end_time": "2020-03-02T18:09:22.734510Z",
     "start_time": "2020-03-02T18:09:21.356121Z"
    }
   },
   "outputs": [
    {
     "name": "stdout",
     "output_type": "stream",
     "text": [
      "Our dataset of 129675 rows of which 128524 have a unique CVE.\n",
      "Out of all rows 93466 rows have a CWE (72.08 %) (which also includes CWE-Categorys).\n",
      "The remaining 36209 rows have no CWE (27.92 %).\n",
      "The dataset contains 170 unique CWEs.\n",
      "\n",
      "CWE Abstractions:\n",
      "Base       36987 (28.52% of all rows)\n",
      "Category   15280 (11.78% of all rows)\n",
      "Class      36518 (28.16% of all rows)\n",
      "Compound   2603 (2.01% of all rows)\n",
      "Variant    1839 (1.42% of all rows)\n"
     ]
    }
   ],
   "source": [
    "print(\"Our dataset of {} rows of which {} have a unique CVE.\".format(\n",
    "    len(df), len(df['cve_id'].unique())))\n",
    "print(\"Out of all rows {} rows have a CWE ({:.2f} %) (which also includes CWE-Categorys).\".format(\n",
    "    len(df[~df['cwe_id'].isnull()]), (len(df[~df['cwe_id'].isnull()])/len(df))*100))\n",
    "print(\"The remaining {} rows have no CWE ({:.2f} %).\".format(\n",
    "    len(df[df['cwe_id'].isnull()]), (len(df[df['cwe_id'].isnull()])/len(df))*100))\n",
    "\n",
    "print(\"The dataset contains {} unique CWEs.\".format(\n",
    "    len(df['cwe_id'].unique())-1))  # one nan-value is substracted\n",
    "\n",
    "print(\"\\nCWE Abstractions:\")\n",
    "cwe_abstraction_group = df.groupby('cwe_abstraction').count()['cve_id']\n",
    "for i in cwe_abstraction_group.index:\n",
    "    print(\"{:<10} {} ({:.2f}% of all rows)\".format(\n",
    "        i, cwe_abstraction_group[i], (cwe_abstraction_group[i]/len(df))*100))"
   ]
  },
  {
   "cell_type": "markdown",
   "metadata": {},
   "source": [
    "## 3. STRIDE Mapping <a class=\"anchor\" id=\"stride_mapping\"></a>"
   ]
  },
  {
   "cell_type": "markdown",
   "metadata": {},
   "source": [
    "<b>Create STRIDE Columns</b>"
   ]
  },
  {
   "cell_type": "code",
   "execution_count": 22,
   "metadata": {
    "ExecuteTime": {
     "end_time": "2020-03-02T18:09:28.097188Z",
     "start_time": "2020-03-02T18:09:28.078721Z"
    }
   },
   "outputs": [],
   "source": [
    "stride_columns = \"S,T,R,I,D,E\".split(',')\n",
    "for col in stride_columns:\n",
    "    df[col] = None"
   ]
  },
  {
   "cell_type": "markdown",
   "metadata": {},
   "source": [
    "### 3.A. Using CWE Common Consequences Scope <a class=\"anchor\" id=\"cc_scope_mapping\"></a>"
   ]
  },
  {
   "cell_type": "code",
   "execution_count": 23,
   "metadata": {
    "ExecuteTime": {
     "end_time": "2020-03-02T18:09:28.607632Z",
     "start_time": "2020-03-02T18:09:28.603322Z"
    }
   },
   "outputs": [],
   "source": [
    "mapping = {\n",
    "    'Availability': 'D',      # Denial of Service\n",
    "    'Confidentiality': 'I',   # Information disclosure\n",
    "    'Integrity': 'T',         # Tampering\n",
    "    'Non-Repudiation': 'R',   # Repudiation\n",
    "    'Authentication': 'S',    # Spoofing\n",
    "    'Accountability': 'R'     # Repudiation\n",
    "}\n",
    "\n",
    "\n",
    "def stride_scope_mapping(cwe_common_consequences_scope):\n",
    "    result = {\n",
    "        'S': False,\n",
    "        'T': False,\n",
    "        'R': False,\n",
    "        'I': False,\n",
    "        'D': False,\n",
    "        'E': False,\n",
    "    }\n",
    "\n",
    "    if isinstance(cwe_common_consequences_scope, list):\n",
    "        for c in cwe_common_consequences_scope:\n",
    "            if c in mapping.keys():\n",
    "                mapped_c = mapping[c]\n",
    "                if mapped_c in result.keys():\n",
    "                    result[mapped_c] = True\n",
    "\n",
    "    return result.values()"
   ]
  },
  {
   "cell_type": "code",
   "execution_count": 24,
   "metadata": {
    "ExecuteTime": {
     "end_time": "2020-03-02T18:09:29.801947Z",
     "start_time": "2020-03-02T18:09:28.774679Z"
    }
   },
   "outputs": [],
   "source": [
    "df['S'], df['T'], df['R'], df['I'], df['D'], df['E'] = zip(\n",
    "    *df['cwe_common_consequences_scope'].apply(stride_scope_mapping))"
   ]
  },
  {
   "cell_type": "code",
   "execution_count": 25,
   "metadata": {
    "ExecuteTime": {
     "end_time": "2020-03-02T18:09:29.818263Z",
     "start_time": "2020-03-02T18:09:29.803722Z"
    }
   },
   "outputs": [
    {
     "data": {
      "text/html": [
       "<div>\n",
       "<style scoped>\n",
       "    .dataframe tbody tr th:only-of-type {\n",
       "        vertical-align: middle;\n",
       "    }\n",
       "\n",
       "    .dataframe tbody tr th {\n",
       "        vertical-align: top;\n",
       "    }\n",
       "\n",
       "    .dataframe thead th {\n",
       "        text-align: right;\n",
       "    }\n",
       "</style>\n",
       "<table border=\"1\" class=\"dataframe\">\n",
       "  <thead>\n",
       "    <tr style=\"text-align: right;\">\n",
       "      <th></th>\n",
       "      <th>S</th>\n",
       "      <th>T</th>\n",
       "      <th>R</th>\n",
       "      <th>I</th>\n",
       "      <th>D</th>\n",
       "      <th>E</th>\n",
       "    </tr>\n",
       "  </thead>\n",
       "  <tbody>\n",
       "    <tr>\n",
       "      <th>0</th>\n",
       "      <td>False</td>\n",
       "      <td>True</td>\n",
       "      <td>False</td>\n",
       "      <td>True</td>\n",
       "      <td>True</td>\n",
       "      <td>False</td>\n",
       "    </tr>\n",
       "    <tr>\n",
       "      <th>1</th>\n",
       "      <td>False</td>\n",
       "      <td>True</td>\n",
       "      <td>True</td>\n",
       "      <td>True</td>\n",
       "      <td>True</td>\n",
       "      <td>False</td>\n",
       "    </tr>\n",
       "    <tr>\n",
       "      <th>2</th>\n",
       "      <td>False</td>\n",
       "      <td>False</td>\n",
       "      <td>False</td>\n",
       "      <td>False</td>\n",
       "      <td>False</td>\n",
       "      <td>False</td>\n",
       "    </tr>\n",
       "    <tr>\n",
       "      <th>3</th>\n",
       "      <td>False</td>\n",
       "      <td>False</td>\n",
       "      <td>False</td>\n",
       "      <td>False</td>\n",
       "      <td>False</td>\n",
       "      <td>False</td>\n",
       "    </tr>\n",
       "    <tr>\n",
       "      <th>4</th>\n",
       "      <td>False</td>\n",
       "      <td>True</td>\n",
       "      <td>False</td>\n",
       "      <td>True</td>\n",
       "      <td>True</td>\n",
       "      <td>False</td>\n",
       "    </tr>\n",
       "  </tbody>\n",
       "</table>\n",
       "</div>"
      ],
      "text/plain": [
       "       S      T      R      I      D      E\n",
       "0  False   True  False   True   True  False\n",
       "1  False   True   True   True   True  False\n",
       "2  False  False  False  False  False  False\n",
       "3  False  False  False  False  False  False\n",
       "4  False   True  False   True   True  False"
      ]
     },
     "execution_count": 26,
     "metadata": {},
     "output_type": "execute_result"
    }
   ],
   "source": [
    "df[stride_columns].head(5)"
   ]
  },
  {
   "cell_type": "markdown",
   "metadata": {},
   "source": [
    "<b>Count rows containing given scope</b><br>\n",
    "Some entries contain the same \"scope\" several times. Therefore, this separate function is created, which counts multiple entries per row just once, to count how many entries actually contain this scope."
   ]
  },
  {
   "cell_type": "code",
   "execution_count": 27,
   "metadata": {
    "ExecuteTime": {
     "end_time": "2020-03-02T18:09:32.100036Z",
     "start_time": "2020-03-02T18:09:31.958076Z"
    }
   },
   "outputs": [],
   "source": [
    "scope_counter = {\n",
    "    'Availability': 0,      # Denial of Service\n",
    "    'Confidentiality': 0,   # Information disclosure\n",
    "    'Integrity': 0,         # Tampering\n",
    "    'Non-Repudiation': 0,   # Repudiation\n",
    "    'Authentication': 0,    # Spoofing\n",
    "    'Accountability': 0     # Repudiation\n",
    "}\n",
    "\n",
    "def count_rows_containing_scope(cwe_common_consequences_scope):\n",
    "    scope_per_row = []\n",
    "    \n",
    "    if isinstance(cwe_common_consequences_scope, list):\n",
    "        for c in cwe_common_consequences_scope:\n",
    "            if c in scope_counter.keys():\n",
    "                if not c in scope_per_row:\n",
    "                    scope_counter[c] += 1\n",
    "                    scope_per_row.append(c)\n",
    "    \n",
    "_ = df['cwe_common_consequences_scope'].apply(count_rows_containing_scope)"
   ]
  },
  {
   "cell_type": "code",
   "execution_count": 28,
   "metadata": {
    "ExecuteTime": {
     "end_time": "2020-03-02T18:09:32.535650Z",
     "start_time": "2020-03-02T18:09:32.528408Z"
    }
   },
   "outputs": [
    {
     "data": {
      "text/html": [
       "<table>\n",
       "<tbody>\n",
       "<tr><td>Availability   </td><td style=\"text-align: right;\">55240</td></tr>\n",
       "<tr><td>Confidentiality</td><td style=\"text-align: right;\">70996</td></tr>\n",
       "<tr><td>Integrity      </td><td style=\"text-align: right;\">62755</td></tr>\n",
       "<tr><td>Non-Repudiation</td><td style=\"text-align: right;\"> 6378</td></tr>\n",
       "<tr><td>Authentication </td><td style=\"text-align: right;\">  408</td></tr>\n",
       "<tr><td>Accountability </td><td style=\"text-align: right;\">   76</td></tr>\n",
       "</tbody>\n",
       "</table>"
      ],
      "text/plain": [
       "<IPython.core.display.HTML object>"
      ]
     },
     "metadata": {},
     "output_type": "display_data"
    }
   ],
   "source": [
    "from IPython.display import HTML, display\n",
    "import tabulate\n",
    "\n",
    "display(HTML(tabulate.tabulate(zip(scope_counter.keys(),scope_counter.values()), tablefmt='html')))"
   ]
  },
  {
   "cell_type": "markdown",
   "metadata": {},
   "source": [
    "### 3.B. Using CWE Common Consequences Impact <a class=\"anchor\" id=\"cc_impact_mapping\"></a>"
   ]
  },
  {
   "cell_type": "code",
   "execution_count": 29,
   "metadata": {
    "ExecuteTime": {
     "end_time": "2020-03-02T18:09:35.015783Z",
     "start_time": "2020-03-02T18:09:34.463529Z"
    }
   },
   "outputs": [],
   "source": [
    "df.loc[df['cwe_common_consequences_impact'].astype(str).str.contains(\n",
    "    'Gain Privileges or Assume Identity'), 'E'] = True\n",
    "df.loc[df['cwe_common_consequences_impact'].astype(str).str.contains(\n",
    "    'Gain Privileges or Assume Identity'), 'S'] = True\n",
    "df.loc[df['cwe_common_consequences_impact'].astype(str).str.contains(\n",
    "    'Execute Unauthorized Code or Commands'), 'S'] = True\n",
    "df.loc[df['cwe_common_consequences_impact'].astype(str).str.contains(\n",
    "    'Execute Unauthorized Code or Commands'), 'E'] = True"
   ]
  },
  {
   "cell_type": "markdown",
   "metadata": {},
   "source": [
    "<b>Count rows containing given impact</b><br>"
   ]
  },
  {
   "cell_type": "code",
   "execution_count": 30,
   "metadata": {
    "ExecuteTime": {
     "end_time": "2020-03-02T18:09:38.453815Z",
     "start_time": "2020-03-02T18:09:38.088517Z"
    }
   },
   "outputs": [
    {
     "name": "stdout",
     "output_type": "stream",
     "text": [
      "Gain Privileges or Assume Identity \t 10655\n",
      "Execute Unauthorized Code or Commands \t 50333\n"
     ]
    }
   ],
   "source": [
    "for impact in ['Gain Privileges or Assume Identity', 'Execute Unauthorized Code or Commands']:\n",
    "    print(impact,'\\t', len(df[df['cwe_common_consequences_impact'].astype(str).str.contains(impact)]))"
   ]
  },
  {
   "cell_type": "markdown",
   "metadata": {},
   "source": [
    "### 3.C. Visualize the created mapping <a class=\"anchor\" id=\"plot_mapping\"></a>"
   ]
  },
  {
   "cell_type": "markdown",
   "metadata": {},
   "source": [
    "The graph below shows for each row of the data set how many STRIDE Threats in the respective row could be identified by our mapping. This also shows that about 70,000 entries could not be assigned to a STRIDE Threat. These are the entries without a CWE or with a CWE category. These entries are classified later in the [text classification](#text_classification) step."
   ]
  },
  {
   "cell_type": "code",
   "execution_count": 31,
   "metadata": {
    "ExecuteTime": {
     "end_time": "2020-03-02T18:09:40.914172Z",
     "start_time": "2020-03-02T18:09:39.920920Z"
    }
   },
   "outputs": [
    {
     "data": {
      "text/plain": [
       "Text(0, 0.5, 'Affected Rows')"
      ]
     },
     "execution_count": 32,
     "metadata": {},
     "output_type": "execute_result"
    },
    {
     "data": {
      "image/png": "[encoded data removed]",
      "text/plain": [
       "<Figure size 576x288 with 1 Axes>"
      ]
     },
     "metadata": {
      "needs_background": "light"
     },
     "output_type": "display_data"
    }
   ],
   "source": [
    "df['num_stride_threats'] = df[stride_columns].sum(axis=1)\n",
    "\n",
    "ax = df.groupby(by='num_stride_threats').count()['cve_id'].plot(\n",
    "    kind='bar', figsize=(8, 4), color='#3F5D7D')\n",
    "ax.set_xlabel(\"STRIDE Threats\")\n",
    "ax.set_ylabel(\"Affected Rows\")"
   ]
  },
  {
   "cell_type": "markdown",
   "metadata": {},
   "source": [
    "The graph below shows how many rows were assigned to each STRIDE Threat by the mapping process."
   ]
  },
  {
   "cell_type": "code",
   "execution_count": 33,
   "metadata": {
    "ExecuteTime": {
     "end_time": "2020-03-02T18:09:41.338349Z",
     "start_time": "2020-03-02T18:09:41.083834Z"
    }
   },
   "outputs": [
    {
     "data": {
      "text/plain": [
       "Text(0, 0.5, 'Affected Rows')"
      ]
     },
     "execution_count": 34,
     "metadata": {},
     "output_type": "execute_result"
    },
    {
     "data": {
      "image/png": "[encoded data removed]",
      "text/plain": [
       "<Figure size 576x288 with 1 Axes>"
      ]
     },
     "metadata": {
      "needs_background": "light"
     },
     "output_type": "display_data"
    }
   ],
   "source": [
    "ax = df[['S', 'T', 'R', 'I', 'D', 'E']].sum().plot(\n",
    "    kind='bar', figsize=(8, 4), color='#3F5D7D')\n",
    "ax.set_xlabel(\"STRIDE Threats\")\n",
    "ax.set_ylabel(\"Affected Rows\")"
   ]
  },
  {
   "cell_type": "markdown",
   "metadata": {},
   "source": [
    "## 4. Text Classification <a class=\"anchor\" id=\"text_classification\"></a>"
   ]
  },
  {
   "cell_type": "markdown",
   "metadata": {},
   "source": [
    "### 4.A. Preprocessing <a class=\"anchor\" id=\"text_classification_preprocessing\"></a>"
   ]
  },
  {
   "cell_type": "code",
   "execution_count": 35,
   "metadata": {
    "ExecuteTime": {
     "end_time": "2020-03-02T18:10:19.743520Z",
     "start_time": "2020-03-02T18:09:46.074730Z"
    }
   },
   "outputs": [
    {
     "data": {
      "text/plain": [
       "TfidfVectorizer(analyzer='word', binary=False, decode_error='strict',\n",
       "                dtype=<class 'numpy.float64'>, encoding='utf-8',\n",
       "                input='content', lowercase=True, max_df=1.0, max_features=5000,\n",
       "                min_df=1, ngram_range=(1, 2), norm='l2', preprocessor=None,\n",
       "                smooth_idf=True, stop_words=None, strip_accents=None,\n",
       "                sublinear_tf=False, token_pattern='\\\\w{1,}', tokenizer=None,\n",
       "                use_idf=True, vocabulary=None)"
      ]
     },
     "execution_count": 36,
     "metadata": {},
     "output_type": "execute_result"
    }
   ],
   "source": [
    "from nltk.corpus import stopwords\n",
    "from textblob import Word\n",
    "from sklearn.feature_extraction.text import TfidfVectorizer\n",
    "\n",
    "# lower all words in description\n",
    "df['cve_description_preprocessed'] = df['cve_description'].apply(\n",
    "    lambda x: \" \".join(x.lower() for x in x.split()))\n",
    "stop = stopwords.words('english')\n",
    "# remove stop/filler words\n",
    "df['cve_description_preprocessed'] = df['cve_description_preprocessed'].apply(\n",
    "    lambda x: \" \".join(x for x in x.split() if x not in stop))\n",
    "# lemmatize all words\n",
    "df['cve_description_preprocessed'] = df['cve_description_preprocessed'].apply(\n",
    "    lambda x: \" \".join([Word(word).lemmatize() for word in x.split()]))\n",
    "# create and fit the text vectorizer\n",
    "tfidf_vectorizer = TfidfVectorizer(\n",
    "    analyzer='word', token_pattern=r'\\w{1,}', ngram_range=(1, 2), max_features=5000)\n",
    "tfidf_vectorizer.fit(df['cve_description_preprocessed'])"
   ]
  },
  {
   "cell_type": "markdown",
   "metadata": {},
   "source": [
    "#### Create Training Dataset <a class=\"anchor\" id=\"text_classification_preprocessing\"></a>\n",
    "We use all already classified rows from the DataFrame to create the training dataset<br>\n",
    "The remaining rows (all rows that aren't classified so far) will be later classified using the created text classifier"
   ]
  },
  {
   "cell_type": "code",
   "execution_count": 37,
   "metadata": {
    "ExecuteTime": {
     "end_time": "2020-03-02T17:17:47.804335Z",
     "start_time": "2020-03-02T17:17:47.054607Z"
    }
   },
   "outputs": [
    {
     "name": "stdout",
     "output_type": "stream",
     "text": [
      "The training dataset contains 75721 entries\n"
     ]
    }
   ],
   "source": [
    "train_df = df[df['num_stride_threats']>0].copy()\n",
    "print(\"The training dataset contains {} entries\".format(len(train_df)))"
   ]
  },
  {
   "cell_type": "markdown",
   "metadata": {},
   "source": [
    "### 4.B. Model Comparison <a class=\"anchor\" id=\"text_classification_model_comparison\"></a>\n",
    "In the following two steps we compare multiple machine-learning models by performing a 3-fold cross-validation .<br>\n",
    "The results for our comparison can be seen in [the table below](#text_classification_model_comparison_results).<br>"
   ]
  },
  {
   "cell_type": "code",
   "execution_count": 38,
   "metadata": {
    "ExecuteTime": {
     "end_time": "2020-02-21T14:57:34.626248Z",
     "start_time": "2020-02-21T14:57:34.558745Z"
    }
   },
   "outputs": [],
   "source": [
    "# import classifiers dependencies\n",
    "from sklearn.svm import SVC\n",
    "from sklearn.ensemble import RandomForestClassifier\n",
    "from sklearn.tree import DecisionTreeClassifier\n",
    "from sklearn.neighbors import KNeighborsClassifier\n",
    "from sklearn.linear_model import LogisticRegression\n",
    "from sklearn.naive_bayes import MultinomialNB\n",
    "import lightgbm as lgb\n",
    "# import scoring dependencies\n",
    "from sklearn.metrics import f1_score, precision_score, recall_score, make_scorer\n",
    "\n",
    "classifier_names = ['Naive Bayes', 'Logistic Regression',\n",
    "                    'Decision Tree', 'Random Forest', 'LightGBM']\n",
    "\n",
    "classifiers = [\n",
    "    MultinomialNB(alpha=0.2),\n",
    "    LogisticRegression(solver='sag', random_state=0),\n",
    "    DecisionTreeClassifier(random_state=0),\n",
    "    RandomForestClassifier(n_estimators=100, n_jobs=-1, random_state=0),\n",
    "    lgb.LGBMClassifier()\n",
    "]\n",
    "\n",
    "model_comparison_metrics = {\n",
    "    'Naive Bayes': {},\n",
    "    'Logistic Regression': {},\n",
    "    'Decision Tree': {},\n",
    "    'Random Forest': {},\n",
    "    'LightGBM': {}\n",
    "}\n",
    "\n",
    "\n",
    "scoring = {'precision': make_scorer(precision_score),\n",
    "           'recall': make_scorer(recall_score),\n",
    "           'f1_score': make_scorer(f1_score)\n",
    "           }"
   ]
  },
  {
   "cell_type": "code",
   "execution_count": 39,
   "metadata": {
    "ExecuteTime": {
     "end_time": "2020-02-21T15:23:20.183529Z",
     "start_time": "2020-02-21T14:59:45.941499Z"
    }
   },
   "outputs": [],
   "source": [
    "from sklearn.utils import shuffle\n",
    "from sklearn.model_selection import cross_validate\n",
    "\n",
    "for target_column in ['S', 'T', 'R', 'I', 'D', 'E']:\n",
    "\n",
    "    X = train_df['cve_description_preprocessed'].values\n",
    "    y = train_df[target_column].values\n",
    "\n",
    "    X, y = shuffle(X, y, random_state=0)\n",
    "\n",
    "    X = tfidf_vectorizer.transform(X)\n",
    "\n",
    "    for clf_name, clf in zip(classifier_names, classifiers):\n",
    "        scores = cross_validate(\n",
    "            clf, X, y, scoring=scoring, cv=3, return_train_score=True)\n",
    "        model_comparison_metrics[clf_name][target_column] = scores"
   ]
  },
  {
   "cell_type": "markdown",
   "metadata": {},
   "source": [
    "#### Model Comparison Results <a class=\"anchor\" id=\"text_classification_model_comparison_results\"></a>"
   ]
  },
  {
   "cell_type": "code",
   "execution_count": 40,
   "metadata": {
    "ExecuteTime": {
     "end_time": "2020-02-24T12:38:18.489018Z",
     "start_time": "2020-02-24T12:38:18.475412Z"
    },
    "scrolled": true
   },
   "outputs": [
    {
     "data": {
      "text/html": [
       "<table>\n",
       "<tbody>\n",
       "<tr><td>Model              </td><td>S    </td><td>T    </td><td>R    </td><td>I    </td><td>D    </td><td>E    </td><td>Avg  </td></tr>\n",
       "<tr><td>Naive Bayes        </td><td>0.932</td><td>0.938</td><td>0.699</td><td>0.966</td><td>0.932</td><td>0.932</td><td>0.9  </td></tr>\n",
       "<tr><td>Logistic Regression</td><td>0.952</td><td>0.96 </td><td>0.755</td><td>0.978</td><td>0.953</td><td>0.952</td><td>0.925</td></tr>\n",
       "<tr><td>Decision Tree      </td><td>0.933</td><td>0.946</td><td>0.733</td><td>0.97 </td><td>0.935</td><td>0.933</td><td>0.908</td></tr>\n",
       "<tr><td>Random Forest      </td><td>0.954</td><td>0.962</td><td>0.778</td><td>0.979</td><td>0.955</td><td>0.954</td><td>0.93 </td></tr>\n",
       "<tr><td>LightGBM           </td><td>0.954</td><td>0.963</td><td>0.799</td><td>0.98 </td><td>0.956</td><td>0.954</td><td>0.934</td></tr>\n",
       "</tbody>\n",
       "</table>"
      ],
      "text/plain": [
       "<IPython.core.display.HTML object>"
      ]
     },
     "metadata": {},
     "output_type": "display_data"
    }
   ],
   "source": [
    "from IPython.display import HTML, display\n",
    "import tabulate\n",
    "\n",
    "model_comparison_table = []\n",
    "model_comparison_table.append(['Model', 'S', 'T', 'R', 'I', 'D', 'E', 'Avg']) # Table header\n",
    "\n",
    "for classifier_name in model_comparison_metrics:\n",
    "    \n",
    "    table_row = [classifier_name]\n",
    "    avg = 0\n",
    "    for target in model_comparison_metrics[classifier_name]:\n",
    "        table_row.append(round(model_comparison_metrics[classifier_name][target]['test_f1_score'].mean(),3))\n",
    "        avg += model_comparison_metrics[classifier_name][target]['test_f1_score'].mean()\n",
    "    table_row.append(round(avg/6, 3))\n",
    "    model_comparison_table.append(table_row)\n",
    "\n",
    "display(HTML(tabulate.tabulate(model_comparison_table, tablefmt='html')))"
   ]
  },
  {
   "cell_type": "markdown",
   "metadata": {},
   "source": [
    "### 4.C. Hyper-parameter Optimization <a class=\"anchor\" id=\"text_classification_hyperparameter_optimization\"></a>\n",
    "Our model comparison has shown that the LightGBM model seems to produce the best results.\n",
    "We therefore perform a hyper-parameter optimization for this model by using a grid search algorithm on a predefined set of parameters.\n",
    "Note: In order to reproduce the results of our mapping, this step can be skipped, as we restore the parameters found in the [following step](#text_classification_hyperparameter_optimization_results).<br>"
   ]
  },
  {
   "cell_type": "code",
   "execution_count": 41,
   "metadata": {
    "ExecuteTime": {
     "end_time": "2020-02-21T15:29:19.103985Z",
     "start_time": "2020-02-21T15:29:19.099620Z"
    }
   },
   "outputs": [],
   "source": [
    "from sklearn.model_selection import GridSearchCV\n",
    "from sklearn.model_selection import train_test_split\n",
    "import lightgbm as lgb"
   ]
  },
  {
   "cell_type": "code",
   "execution_count": 42,
   "metadata": {
    "ExecuteTime": {
     "end_time": "2020-02-23T15:11:02.166366Z",
     "start_time": "2020-02-21T16:58:54.961304Z"
    }
   },
   "outputs": [],
   "source": [
    "optimized_parameters = {}\n",
    "\n",
    "for target_column in ['S', 'T', 'R', 'I', 'D', 'E']:\n",
    "    print(target_column)\n",
    "    results = {}\n",
    "    X_train, X_test, y_train, y_test = train_test_split(\n",
    "        train_df['cve_description_preprocessed'], train_df[target_column], random_state=0)\n",
    "\n",
    "    X_train = tfidf_vectorizer.transform(X_train)\n",
    "    X_test = tfidf_vectorizer.transform(X_test)\n",
    "\n",
    "    param_grid = {'boosting_type': ['gbdt'],\n",
    "                  'objective': ['binary'],\n",
    "                  'num_iterations': [500, 1000],\n",
    "                  'learning_rate': [0.005, 0.05],\n",
    "                  'num_leaves': [512, 1024],\n",
    "                  'feature_fraction': [0.5, 1.0],\n",
    "                  'bagging_fraction': [0.5, 1.0]\n",
    "                  }\n",
    "\n",
    "    model = lgb.LGBMClassifier(boosting_type=\"gbdt\", n_jobs=-1, silent=True)\n",
    "    grid = GridSearchCV(\n",
    "        estimator=model, param_grid=param_grid, cv=3, verbose=2, n_jobs=1, scoring='f1')\n",
    "    grid_result = grid.fit(X_train, y_train)\n",
    "\n",
    "    optimized_parameters[target_column] = grid.best_params_"
   ]
  },
  {
   "cell_type": "markdown",
   "metadata": {},
   "source": [
    "#### Hyperparameter Optimization Results <a class=\"anchor\" id=\"text_classification_hyperparameter_optimization_results\"></a>\n",
    "We restore the found hyper-parameters here to allow a reproduction of our results without extensive computational effort."
   ]
  },
  {
   "cell_type": "code",
   "execution_count": 43,
   "metadata": {
    "ExecuteTime": {
     "end_time": "2020-03-02T17:23:21.915645Z",
     "start_time": "2020-03-02T17:23:21.905055Z"
    }
   },
   "outputs": [],
   "source": [
    "optimized_parameters = {\n",
    "    'S': {'bagging_fraction': 0.5, 'boosting_type': 'gbdt', 'feature_fraction': 0.5, 'learning_rate': 0.005, 'num_iterations': 1000, 'num_leaves': 512, 'objective': 'binary'},\n",
    "    'T': {'bagging_fraction': 0.5, 'boosting_type': 'gbdt', 'feature_fraction': 0.5, 'learning_rate': 0.005, 'num_iterations': 1000, 'num_leaves': 512, 'objective': 'binary'},\n",
    "    'R': {'bagging_fraction': 0.5, 'boosting_type': 'gbdt', 'feature_fraction': 1.0, 'learning_rate': 0.05, 'num_iterations': 500, 'num_leaves': 512, 'objective': 'binary'},\n",
    "    'I': {'bagging_fraction': 0.5, 'boosting_type': 'gbdt', 'feature_fraction': 1.0, 'learning_rate': 0.005, 'num_iterations': 1000, 'num_leaves': 1024, 'objective': 'binary'},\n",
    "    'D': {'bagging_fraction': 0.5, 'boosting_type': 'gbdt', 'feature_fraction': 0.5, 'learning_rate': 0.005, 'num_iterations': 1000, 'num_leaves': 1024, 'objective': 'binary'},\n",
    "    'E': {'bagging_fraction': 0.5, 'boosting_type': 'gbdt', 'feature_fraction': 0.5, 'learning_rate': 0.005, 'num_iterations': 1000, 'num_leaves': 512, 'objective': 'binary'},\n",
    "}"
   ]
  },
  {
   "cell_type": "markdown",
   "metadata": {},
   "source": [
    "#### Retrain the models with optimized parameters\n",
    "To allow a reproduction of our results without performing the whole hyper-parameter optimization step we retrain our models again with the found parameters. Additionally we calculate a variety of metrics to later evaluate our model and to calculate a desired threshold for our classification process."
   ]
  },
  {
   "cell_type": "code",
   "execution_count": 44,
   "metadata": {
    "ExecuteTime": {
     "end_time": "2020-02-23T16:28:37.934952Z",
     "start_time": "2020-02-23T15:29:30.803899Z"
    }
   },
   "outputs": [],
   "source": [
    "from sklearn.metrics import roc_curve, auc, precision_recall_curve, average_precision_score\n",
    "from sklearn.metrics import roc_auc_score, f1_score, precision_score, recall_score\n",
    "from sklearn.model_selection import train_test_split\n",
    "from sklearn.ensemble import RandomForestClassifier\n",
    "\n",
    "classification_results = {}\n",
    "for target_column in ['S', 'T', 'R', 'I', 'D', 'E']:\n",
    "    print(target_column)\n",
    "    X_train, X_test, y_train, y_test = train_test_split(\n",
    "        train_df['cve_description_preprocessed'], train_df[target_column], random_state=0)\n",
    "    X_train = tfidf_vectorizer.transform(X_train)\n",
    "    X_test = tfidf_vectorizer.transform(X_test)\n",
    "\n",
    "    results = {}\n",
    "    # retrain a model with the best parameters\n",
    "    \n",
    "    clf = lgb.LGBMClassifier(**optimized_parameters[target_column] , n_jobs=-1, silent=True)\n",
    "    clf.fit(X_train, y_train)\n",
    "\n",
    "    predictions = clf.predict_proba(X_test)[:, 1]\n",
    "\n",
    "    roc_fpr, roc_tpr, roc_threshold = roc_curve(y_test, predictions)\n",
    "    roc_auc = auc(roc_fpr, roc_tpr)\n",
    "    precision, recall, pr_threshold = precision_recall_curve(\n",
    "        y_test, predictions)\n",
    "    pr_auc = auc(recall, precision)\n",
    "\n",
    "    results['classifier'] = clf\n",
    "    results['roc_fpr'] = roc_fpr\n",
    "    results['roc_tpr'] = roc_tpr\n",
    "    results['roc_threshold'] = roc_threshold\n",
    "    results['roc_auc'] = roc_auc\n",
    "    results['precision'] = precision\n",
    "    results['recall'] = recall\n",
    "    results['pr_threshold'] = pr_threshold\n",
    "    results['pr_auc'] = pr_auc\n",
    "    results['f1_score'] = f1_score(y_test, predictions.round())\n",
    "    results['precision_score'] = precision_score(y_test, predictions.round())\n",
    "    results['recall_score'] = recall_score(y_test, predictions.round())\n",
    "    results['y_true'] = y_test\n",
    "    results['y_pred'] = predictions\n",
    "\n",
    "    classification_results[target_column] = results"
   ]
  },
  {
   "cell_type": "markdown",
   "metadata": {},
   "source": [
    "We output the f1-score of the optimized model to be able to compare the improvement with the model from the \n",
    "[model comparison](#text_classification_model_comparison_results)."
   ]
  },
  {
   "cell_type": "code",
   "execution_count": 45,
   "metadata": {
    "ExecuteTime": {
     "end_time": "2020-03-02T18:10:29.547858Z",
     "start_time": "2020-03-02T18:10:29.538925Z"
    }
   },
   "outputs": [
    {
     "data": {
      "text/html": [
       "<table>\n",
       "<tbody>\n",
       "<tr><td>Metric  </td><td>S   </td><td>T    </td><td>R    </td><td>I   </td><td>D    </td><td>E   </td></tr>\n",
       "<tr><td>f1_score</td><td>0.96</td><td>0.967</td><td>0.801</td><td>0.98</td><td>0.961</td><td>0.96</td></tr>\n",
       "</tbody>\n",
       "</table>"
      ],
      "text/plain": [
       "<IPython.core.display.HTML object>"
      ]
     },
     "metadata": {},
     "output_type": "display_data"
    }
   ],
   "source": [
    "evaluation_table = [['Metric','S', 'T', 'R', 'I', 'D', 'E']] # Table header\n",
    "\n",
    "for metric in ['f1_score']:\n",
    "    \n",
    "    table_row = [metric]\n",
    "    \n",
    "    for target in classification_results:\n",
    "        table_row.append(round(classification_results[target][metric],3))\n",
    "    evaluation_table.append(table_row)\n",
    "\n",
    "display(HTML(tabulate.tabulate(evaluation_table, tablefmt='html')))"
   ]
  },
  {
   "cell_type": "markdown",
   "metadata": {},
   "source": [
    "### 4.D. Evaluation <a class=\"anchor\" id=\"text_classification_evaluation\"></a>"
   ]
  },
  {
   "cell_type": "markdown",
   "metadata": {},
   "source": [
    "#### Precision-Recall-Curve  <a class=\"anchor\" id=\"text_classification_\"></a>"
   ]
  },
  {
   "cell_type": "code",
   "execution_count": 46,
   "metadata": {
    "ExecuteTime": {
     "end_time": "2020-03-02T18:10:31.798264Z",
     "start_time": "2020-03-02T18:10:31.530743Z"
    }
   },
   "outputs": [
    {
     "data": {
      "image/png": "[encoded data removed]",
      "text/plain": [
       "<Figure size 576x360 with 1 Axes>"
      ]
     },
     "metadata": {
      "needs_background": "light"
     },
     "output_type": "display_data"
    }
   ],
   "source": [
    "import matplotlib.pyplot as plt\n",
    "\n",
    "plt.figure(figsize=(8,5))\n",
    "lw = 2\n",
    "\n",
    "threat_type_dict = {\n",
    "    'S':'Spoofing',\n",
    "    'T':'Tampering',\n",
    "    'R':'Repudiation',\n",
    "    'I':'Information disclosure',\n",
    "    'D':'Denial of service',\n",
    "    'E':'Elevation of privilege'\n",
    "}\n",
    "\n",
    "for threat_type in classification_results:\n",
    "    fpr = classification_results[threat_type]['recall']\n",
    "    tpr = classification_results[threat_type]['precision']\n",
    "    roc_auc = classification_results[threat_type]['pr_auc']\n",
    "    plt.plot(fpr, tpr, lw=lw, label='%s (AUC=%0.2f)' % (threat_type_dict[threat_type], roc_auc))\n",
    "    \n",
    "plt.xlim([0.0, 1.0])\n",
    "plt.ylim([0.0, 1.05])\n",
    "plt.ylabel('Precision')\n",
    "plt.xlabel('Recall')\n",
    "#plt.title('Precision-Recall curve for each threat')\n",
    "plt.legend(loc=\"lower left\")\n",
    "plt.show()"
   ]
  },
  {
   "cell_type": "markdown",
   "metadata": {},
   "source": [
    "#### Receiver operating characteristics curve  <a class=\"anchor\" id=\"text_classification_\"></a>"
   ]
  },
  {
   "cell_type": "code",
   "execution_count": 47,
   "metadata": {
    "ExecuteTime": {
     "end_time": "2020-03-02T18:10:33.646591Z",
     "start_time": "2020-03-02T18:10:33.423976Z"
    }
   },
   "outputs": [
    {
     "data": {
      "image/png": "[encoded data removed]",
      "text/plain": [
       "<Figure size 576x360 with 1 Axes>"
      ]
     },
     "metadata": {
      "needs_background": "light"
     },
     "output_type": "display_data"
    }
   ],
   "source": [
    "plt.figure(figsize=(8,5))\n",
    "lw = 2\n",
    "plt.plot([0, 1], [0, 1], color='navy', lw=lw, linestyle='--')\n",
    "\n",
    "threat_type_dict = {\n",
    "    'S':'Spoofing',\n",
    "    'T':'Tampering',\n",
    "    'R':'Repudiation',\n",
    "    'I':'Information disclosure',\n",
    "    'D':'Denial of service',\n",
    "    'E':'Elevation of privilege'\n",
    "}\n",
    "\n",
    "\n",
    "for threat_type in classification_results:\n",
    "    fpr = classification_results[threat_type]['roc_fpr']\n",
    "    tpr = classification_results[threat_type]['roc_tpr']\n",
    "    roc_auc = classification_results[threat_type]['roc_auc']\n",
    "    plt.plot(fpr, tpr, lw=lw, label='%s' % (threat_type_dict[threat_type]))\n",
    "\n",
    "plt.plot([0.05,0.05], [0,1],color='k')\n",
    "plt.annotate('5% FPR', [0.06, 0.98])\n",
    "plt.xlim([0.0, 1.0])\n",
    "plt.ylim([0.0, 1.05])\n",
    "plt.xlabel('False Positive Rate')\n",
    "plt.ylabel('True Positive Rate')\n",
    "#plt.title('Receiver operating characteristic for each threat')\n",
    "plt.legend(loc=\"lower right\")\n",
    "plt.show()"
   ]
  },
  {
   "cell_type": "markdown",
   "metadata": {},
   "source": [
    "#### Feature Importance  <a class=\"anchor\" id=\"text_classification_\"></a>"
   ]
  },
  {
   "cell_type": "code",
   "execution_count": 48,
   "metadata": {
    "ExecuteTime": {
     "end_time": "2020-03-02T18:10:36.260742Z",
     "start_time": "2020-03-02T18:10:34.604313Z"
    }
   },
   "outputs": [
    {
     "data": {
      "image/png": "[encoded data removed]",
      "text/plain": [
       "<Figure size 576x360 with 1 Axes>"
      ]
     },
     "metadata": {
      "needs_background": "light"
     },
     "output_type": "display_data"
    },
    {
     "data": {
      "image/png": "[encoded data removed]",
      "text/plain": [
       "<Figure size 576x360 with 1 Axes>"
      ]
     },
     "metadata": {
      "needs_background": "light"
     },
     "output_type": "display_data"
    },
    {
     "data": {
      "image/png": "[encoded data removed]",
      "text/plain": [
       "<Figure size 576x360 with 1 Axes>"
      ]
     },
     "metadata": {
      "needs_background": "light"
     },
     "output_type": "display_data"
    },
    {
     "data": {
      "image/png": "[encoded data removed]",
      "text/plain": [
       "<Figure size 576x360 with 1 Axes>"
      ]
     },
     "metadata": {
      "needs_background": "light"
     },
     "output_type": "display_data"
    },
    {
     "data": {
      "image/png": "[encoded data removed]",
      "text/plain": [
       "<Figure size 576x360 with 1 Axes>"
      ]
     },
     "metadata": {
      "needs_background": "light"
     },
     "output_type": "display_data"
    },
    {
     "data": {
      "image/png": "[encoded data removed]",
      "text/plain": [
       "<Figure size 576x360 with 1 Axes>"
      ]
     },
     "metadata": {
      "needs_background": "light"
     },
     "output_type": "display_data"
    }
   ],
   "source": [
    "threat_type_dict = {\n",
    "    'S': 'Spoofing',\n",
    "    'T': 'Tampering',\n",
    "    'R': 'Repudiation',\n",
    "    'I': 'Information disclosure',\n",
    "    'D': 'Denial of service',\n",
    "    'E': 'Elevation of privilege'\n",
    "}\n",
    "\n",
    "\n",
    "for threat in classification_results.keys():\n",
    "    feature_importance_df = pd.DataFrame(index=tfidf_vectorizer.get_feature_names(\n",
    "    ), data=classification_results[threat]['classifier'].booster_.feature_importance(importance_type='gain'), columns=['Feature Importance'])\n",
    "    ax = feature_importance_df.sort_values(by=['Feature Importance'], ascending=False).head(20).sort_values(by=['Feature Importance'], ascending=True).plot(\n",
    "        kind='barh', title=threat_type_dict[threat], align='center', color='#3F5D7D', figsize=(8, 5))\n",
    "    ax.set_xlabel(\"Feature Importance\")\n",
    "    ax.set_ylabel(\"Keyword\")"
   ]
  },
  {
   "cell_type": "markdown",
   "metadata": {},
   "source": [
    "#### Find  threshold  <a class=\"anchor\" id=\"text_classification_find_threshold\"></a>"
   ]
  },
  {
   "cell_type": "code",
   "execution_count": 49,
   "metadata": {
    "ExecuteTime": {
     "end_time": "2020-03-02T18:10:36.547559Z",
     "start_time": "2020-03-02T18:10:36.539718Z"
    }
   },
   "outputs": [],
   "source": [
    "def get_fpr(label, prediction):\n",
    "    negative_samples = (label == 0).sum()\n",
    "    false_positives = (prediction[label == 0] == 1).sum()\n",
    "    return false_positives / float(negative_samples)\n",
    "\n",
    "def get_tpr(label, prediction):\n",
    "    positive_samples = (label == 1).sum()\n",
    "    true_positives = (prediction[label==1]==1).sum()\n",
    "    return true_positives/ float(positive_samples)\n",
    "\n",
    "def find_threshold(label, prediction, desired_fpr):\n",
    "    threshold = 0.0\n",
    "    fpr = get_fpr(label, prediction > threshold)\n",
    "    while fpr > desired_fpr and threshold < 1.0:\n",
    "        threshold += 0.0001\n",
    "        fpr = get_fpr(label, prediction > threshold)\n",
    "    return threshold, fpr"
   ]
  },
  {
   "cell_type": "code",
   "execution_count": 50,
   "metadata": {
    "ExecuteTime": {
     "end_time": "2020-03-02T18:11:07.952552Z",
     "start_time": "2020-03-02T18:10:38.147269Z"
    }
   },
   "outputs": [
    {
     "name": "stdout",
     "output_type": "stream",
     "text": [
      "The \"Spoofing\" model generates a 5.0 % false positive rate with a threshold of 0.859 and generates a true positive rate of 89.071 %\n",
      "The \"Tampering\" model generates a 5.0 % false positive rate with a threshold of 0.902 and generates a true positive rate of 89.709 %\n",
      "The \"Repudiation\" model generates a 5.0 % false positive rate with a threshold of 0.000 and generates a true positive rate of 90.761 %\n",
      "The \"Information disclosure\" model generates a 5.0 % false positive rate with a threshold of 0.994 and generates a true positive rate of 82.322 %\n",
      "The \"Denial of service\" model generates a 5.0 % false positive rate with a threshold of 0.839 and generates a true positive rate of 91.110 %\n",
      "The \"Elevation of privilege\" model generates a 5.0 % false positive rate with a threshold of 0.859 and generates a true positive rate of 89.071 %\n"
     ]
    }
   ],
   "source": [
    "threshold_dict = {}\n",
    "desired_fpr = 0.05\n",
    "\n",
    "for threat_type in classification_results:\n",
    "    thresh, fpr = find_threshold(\n",
    "        classification_results[threat_type]['y_true'], classification_results[threat_type]['y_pred'], desired_fpr)\n",
    "    threshold_dict[threat_type] = thresh\n",
    "    tpr = get_tpr(classification_results[threat_type]['y_true'],\n",
    "                  classification_results[threat_type]['y_pred'] > thresh)\n",
    "    print(\"The \\\"{}\\\" model generates a {} % false positive rate with a threshold of {:.3f} and generates a true positive rate of {:.3f} %\".format(\n",
    "        threat_type_dict[threat_type], desired_fpr*100, thresh, tpr*100))"
   ]
  },
  {
   "cell_type": "markdown",
   "metadata": {},
   "source": [
    "### 4.E. Completion of the Dataset  <a class=\"anchor\" id=\"test_classification_completion\"></a>\n",
    "In this step we use the generated models to fill the gaps in our data set through the calculation."
   ]
  },
  {
   "cell_type": "code",
   "execution_count": 51,
   "metadata": {
    "ExecuteTime": {
     "end_time": "2020-03-02T18:11:10.182225Z",
     "start_time": "2020-03-02T18:11:09.725080Z"
    }
   },
   "outputs": [],
   "source": [
    "df.loc[df['cwe_abstraction'].isnull(), 'cwe_abstraction'] = 'Text Classified'\n",
    "df.loc[df['cwe_name'].isnull(), 'cwe_name'] = 'Text Classified'\n",
    "df.loc[df['cwe_name'].isnull(), 'cwe_name'] = 'Text Classified'\n",
    "df.loc[df['cwe_id'].isnull(), 'cwe_id'] = '-'"
   ]
  },
  {
   "cell_type": "code",
   "execution_count": 52,
   "metadata": {
    "ExecuteTime": {
     "end_time": "2020-03-02T18:11:12.946570Z",
     "start_time": "2020-03-02T18:11:10.184237Z"
    }
   },
   "outputs": [],
   "source": [
    "classify_df = df[(df['cwe_abstraction'] == 'Category') |\n",
    "                 (df['cwe_abstraction'] == 'Text Classified')]\n",
    "features = tfidf_vectorizer.transform(\n",
    "    classify_df['cve_description_preprocessed'])"
   ]
  },
  {
   "cell_type": "code",
   "execution_count": 53,
   "metadata": {
    "ExecuteTime": {
     "end_time": "2020-03-02T18:12:08.297186Z",
     "start_time": "2020-03-02T18:11:14.157759Z"
    }
   },
   "outputs": [
    {
     "name": "stdout",
     "output_type": "stream",
     "text": [
      "31107 entries for the threat \"Spoofing\" were identified.\n",
      "32426 entries for the threat \"Tampering\" were identified.\n",
      "6830 entries for the threat \"Repudiation\" were identified.\n",
      "35583 entries for the threat \"Information disclosure\" were identified.\n",
      "28838 entries for the threat \"Denial of service\" were identified.\n",
      "31107 entries for the threat \"Elevation of privilege\" were identified.\n"
     ]
    }
   ],
   "source": [
    "for threat in ['S', 'T', 'R', 'I', 'D', 'E']:\n",
    "    # Load classifier for given threat\n",
    "    clf = classification_results[threat]['classifier']\n",
    "    # predict probability\n",
    "    classify_df.loc[:,threat+'_pred'] = clf.predict_proba(features)[:,1]\n",
    "    classify_df.loc[:,threat] = False\n",
    "    # check if the probability is greater than the calculated thrshold\n",
    "    classify_df.loc[classify_df[threat+'_pred'] > threshold_dict[threat]  ,threat] = True\n",
    "    print('{} entries for the threat \\\"{}\\\" were identified.'.format(classify_df[threat].sum(), threat_type_dict[threat]))"
   ]
  },
  {
   "cell_type": "code",
   "execution_count": 54,
   "metadata": {
    "ExecuteTime": {
     "end_time": "2020-03-02T18:12:09.821568Z",
     "start_time": "2020-03-02T18:12:09.789542Z"
    }
   },
   "outputs": [],
   "source": [
    "for threat in ['S', 'T', 'R', 'I', 'D', 'E']:\n",
    "    df.loc[classify_df.index, threat] = classify_df[threat]"
   ]
  },
  {
   "cell_type": "code",
   "execution_count": 55,
   "metadata": {
    "ExecuteTime": {
     "end_time": "2020-03-02T18:12:11.290325Z",
     "start_time": "2020-03-02T18:12:11.156640Z"
    }
   },
   "outputs": [
    {
     "data": {
      "text/html": [
       "<div>\n",
       "<style scoped>\n",
       "    .dataframe tbody tr th:only-of-type {\n",
       "        vertical-align: middle;\n",
       "    }\n",
       "\n",
       "    .dataframe tbody tr th {\n",
       "        vertical-align: top;\n",
       "    }\n",
       "\n",
       "    .dataframe thead th {\n",
       "        text-align: right;\n",
       "    }\n",
       "</style>\n",
       "<table border=\"1\" class=\"dataframe\">\n",
       "  <thead>\n",
       "    <tr style=\"text-align: right;\">\n",
       "      <th></th>\n",
       "      <th>S</th>\n",
       "      <th>T</th>\n",
       "      <th>R</th>\n",
       "      <th>I</th>\n",
       "      <th>D</th>\n",
       "      <th>E</th>\n",
       "    </tr>\n",
       "  </thead>\n",
       "  <tbody>\n",
       "    <tr>\n",
       "      <th>2</th>\n",
       "      <td>True</td>\n",
       "      <td>False</td>\n",
       "      <td>False</td>\n",
       "      <td>True</td>\n",
       "      <td>True</td>\n",
       "      <td>True</td>\n",
       "    </tr>\n",
       "    <tr>\n",
       "      <th>3</th>\n",
       "      <td>True</td>\n",
       "      <td>False</td>\n",
       "      <td>False</td>\n",
       "      <td>True</td>\n",
       "      <td>True</td>\n",
       "      <td>True</td>\n",
       "    </tr>\n",
       "    <tr>\n",
       "      <th>5</th>\n",
       "      <td>False</td>\n",
       "      <td>False</td>\n",
       "      <td>False</td>\n",
       "      <td>False</td>\n",
       "      <td>False</td>\n",
       "      <td>False</td>\n",
       "    </tr>\n",
       "    <tr>\n",
       "      <th>6</th>\n",
       "      <td>False</td>\n",
       "      <td>False</td>\n",
       "      <td>False</td>\n",
       "      <td>False</td>\n",
       "      <td>False</td>\n",
       "      <td>False</td>\n",
       "    </tr>\n",
       "    <tr>\n",
       "      <th>7</th>\n",
       "      <td>True</td>\n",
       "      <td>True</td>\n",
       "      <td>True</td>\n",
       "      <td>True</td>\n",
       "      <td>True</td>\n",
       "      <td>True</td>\n",
       "    </tr>\n",
       "  </tbody>\n",
       "</table>\n",
       "</div>"
      ],
      "text/plain": [
       "       S      T      R      I      D      E\n",
       "2   True  False  False   True   True   True\n",
       "3   True  False  False   True   True   True\n",
       "5  False  False  False  False  False  False\n",
       "6  False  False  False  False  False  False\n",
       "7   True   True   True   True   True   True"
      ]
     },
     "execution_count": 56,
     "metadata": {},
     "output_type": "execute_result"
    }
   ],
   "source": [
    "df.loc[classify_df.index][['S', 'T', 'R', 'I', 'D', 'E']].head()"
   ]
  },
  {
   "cell_type": "code",
   "execution_count": 57,
   "metadata": {
    "ExecuteTime": {
     "end_time": "2020-03-02T18:12:12.174662Z",
     "start_time": "2020-03-02T18:12:11.900492Z"
    }
   },
   "outputs": [],
   "source": [
    "initial_stride_mapping = df[~df.index.isin(classify_df.index)][['S', 'T', 'R', 'I', 'D', 'E']].sum()\n",
    "text_classification_stride_mapping = df[df.index.isin(classify_df.index)][['S', 'T', 'R', 'I', 'D', 'E']].sum()"
   ]
  },
  {
   "cell_type": "code",
   "execution_count": 58,
   "metadata": {
    "ExecuteTime": {
     "end_time": "2020-03-02T18:12:12.794920Z",
     "start_time": "2020-03-02T18:12:12.650084Z"
    }
   },
   "outputs": [
    {
     "data": {
      "image/png": "[encoded data removed]",
      "text/plain": [
       "<Figure size 432x288 with 1 Axes>"
      ]
     },
     "metadata": {
      "needs_background": "light"
     },
     "output_type": "display_data"
    }
   ],
   "source": [
    "import numpy as np\n",
    "width = 0.35 \n",
    "N = 6\n",
    "ind = np.arange(N)\n",
    "\n",
    "p1 = plt.bar(ind, initial_stride_mapping, width, color='#3F5D7D')\n",
    "p2 = plt.bar(ind, text_classification_stride_mapping, width,\n",
    "             bottom=initial_stride_mapping, color='#6AC199')\n",
    "\n",
    "plt.ylabel('Affected Rows')\n",
    "plt.xlabel('STRIDE Threat')\n",
    "plt.xticks(ind, ('S', 'T', 'R', 'I', 'D', 'E'))\n",
    "plt.yticks(ticks=range(20000, 130000, 20000))\n",
    "plt.legend((p2[0], p1[0]), ('Text Classified', 'Inital Mapping'), loc='upper left')\n",
    "plt.show()"
   ]
  },
  {
   "cell_type": "markdown",
   "metadata": {},
   "source": [
    "## 5. Table Reduction <a class=\"anchor\" id=\"table_reduction\"></a>\n",
    "This last step shows how to reduce the dataset based on several selected attributes. All possible combinations of these attributes are taken into account and the desired values are extracted from the data set."
   ]
  },
  {
   "cell_type": "markdown",
   "metadata": {},
   "source": [
    "### 5.A. Attribute Encoding <a class=\"anchor\" id=\"attribute_encoding\"></a>"
   ]
  },
  {
   "cell_type": "code",
   "execution_count": 59,
   "metadata": {
    "ExecuteTime": {
     "end_time": "2020-03-02T17:59:12.821533Z",
     "start_time": "2020-03-02T17:59:09.984594Z"
    }
   },
   "outputs": [],
   "source": [
    "df.loc[df['cvssV2_access_vector'] == 'NETWORK','selection_access_vector'] = \"Network\"\n",
    "df.loc[df['cvssV2_access_vector'] == 'LOCAL','selection_access_vector'] = \"Local\"\n",
    "df.loc[df['cvssV2_access_vector'] == 'ADJACENT_NETWORK','selection_access_vector'] = \"Network\"\n",
    "\n",
    "df['selection_authentication'] = False\n",
    "df.loc[(df['cvssV2_authentication'] == 'SINGLE') | (df['cvssV2_authentication'] == 'MULTIPLE'), 'selection_authentication'] = True\n",
    "\n",
    "df['selection_affected_resource'] = False\n",
    "df.loc[df['cwe_affected_resources'].astype(str).str.contains(\"System Proces\"), 'selection_affected_resource'] = \"Process\"\n",
    "df.loc[df['cwe_affected_resources'].astype(str).str.contains(\"File or Directory\"), 'selection_affected_resource'] = \"File System\"\n",
    "df.loc[df['cwe_affected_resources'].astype(str).str.contains(\"Memory\"), 'selection_affected_resource'] = \"Memory\"\n",
    "\n",
    "df['selection_language_compiled'] = False\n",
    "df['selection_language_interpreted'] = False\n",
    "df['selection_language_web'] = False\n",
    "df['selection_language_jit_compiled'] = False\n",
    "\n",
    "df.loc[df['cwe_applicable_platforms_language'].astype(str).str.contains(\"'C'\"), 'selection_language_compiled'] = True\n",
    "df.loc[df['cwe_applicable_platforms_language'].astype(str).str.contains(\"C++\", regex=False), 'selection_language_compiled'] = True\n",
    "df.loc[df['cwe_applicable_platforms_language'].astype(str).str.contains(\"Assembly\"), 'selection_language_compiled'] = True\n",
    "\n",
    "df.loc[df['cwe_applicable_platforms_language'].astype(str).str.contains(\"Python\", regex=False), 'selection_language_interpreted'] = True\n",
    "df.loc[df['cwe_applicable_platforms_language'].astype(str).str.contains(\"Ruby\", regex=False), 'selection_language_interpreted'] = True\n",
    "df.loc[df['cwe_applicable_platforms_language'].astype(str).str.contains(\"JavaScript\", regex=False), 'selection_language_interpreted'] = True\n",
    "df.loc[df['cwe_applicable_platforms_language'].astype(str).str.contains(\"Perl\", regex=False), 'selection_language_interpreted'] = True\n",
    "df.loc[df['cwe_applicable_platforms_language'].astype(str).str.contains(\"Interpreted\", regex=False), 'selection_language_interpreted'] = True\n",
    "\n",
    "df.loc[df['cwe_applicable_platforms_language'].astype(str).str.contains(\"PHP\", regex=False), 'selection_language_web'] = True\n",
    "df.loc[df['cwe_applicable_platforms_language'].astype(str).str.contains(\"ASP.NET\", regex=False), 'selection_language_web'] = True\n",
    "\n",
    "df.loc[df['cwe_applicable_platforms_language'].astype(str).str.contains(\"C#\", regex=False), 'selection_language_jit_compiled'] = True\n",
    "df.loc[df['cwe_applicable_platforms_language'].astype(str).str.contains(\"Java\", regex=False), 'selection_language_jit_compiled'] = True\n",
    "\n",
    "df['selection_technology_web'] = False\n",
    "df['selection_technology_database'] = False\n",
    "\n",
    "df.loc[df['cwe_applicable_platforms_technology'].astype(str).str.contains(\"Database\", regex=False), 'selection_technology_database'] = True\n",
    "df.loc[df['cwe_applicable_platforms_technology'].astype(str).str.contains(\"Web\", regex=False), 'selection_technology_web'] = True\n",
    "df.loc[df['cwe_applicable_platforms_paradigm'].astype(str).str.contains(\"Web\", regex=False), 'selection_technology_web'] = True"
   ]
  },
  {
   "cell_type": "markdown",
   "metadata": {},
   "source": [
    "### 5.B. Generate Table <a class=\"anchor\" id=\"generate_table\"></a>"
   ]
  },
  {
   "cell_type": "code",
   "execution_count": 60,
   "metadata": {
    "ExecuteTime": {
     "end_time": "2020-03-02T18:04:35.382405Z",
     "start_time": "2020-03-02T17:59:12.822904Z"
    }
   },
   "outputs": [],
   "source": [
    "stride_columns = ['S', 'T', 'R', 'I', 'D', 'E']\n",
    "generated_table = {}\n",
    "\n",
    "table_row = {\n",
    "    'access_vector':'',\n",
    "    'user_access':'',\n",
    "    'authentication':'',\n",
    "    'language':'',\n",
    "    'technology':'',\n",
    "    'affected_rows':0,\n",
    "\n",
    "}\n",
    "\n",
    "i =0\n",
    "for access_vector in ['Local', 'Network', 'Unknown']:\n",
    "    for authentication in ['True', 'False', 'Unknown']:\n",
    "        for language in ['selection_language_compiled', 'selection_language_interpreted', 'selection_language_web', 'selection_language_jit_compiled', 'Unknown']:\n",
    "            for technology in ['selection_technology_web', 'selection_technology_database', 'Unknown']:\n",
    "                new_row = table_row.copy()\n",
    "\n",
    "                access_vector_kw = access_vector.replace('Unknown','')\n",
    "                authentication_kw = authentication.replace('Unknown','')\n",
    "                if language == 'Unknown' and technology == 'Unknown':\n",
    "                    sub_df = df[(df['selection_access_vector'].astype(str).str.contains(access_vector_kw))\n",
    "                          & (df['selection_authentication'].astype(str).str.contains(authentication_kw))]\n",
    "                elif language == 'Unknown':\n",
    "                    sub_df = df[(df['selection_access_vector'].astype(str).str.contains(access_vector_kw))\n",
    "                              & (df['selection_authentication'].astype(str).str.contains(authentication_kw))\n",
    "                              & (df[technology] == True)]\n",
    "                elif technology == 'Unknown':\n",
    "                    sub_df = df[(df['selection_access_vector'].astype(str).str.contains(access_vector_kw))\n",
    "                              & (df['selection_authentication'].astype(str).str.contains(authentication_kw))\n",
    "                              & (df[language] == True)]\n",
    "                else:\n",
    "                    sub_df = df[(df['selection_access_vector'].astype(str).str.contains(access_vector_kw))\n",
    "                              & (df['selection_authentication'].astype(str).str.contains(authentication_kw))\n",
    "                              & (df[language] == True)\n",
    "                              & (df[technology] ==True)]\n",
    "\n",
    "                new_row['affected_rows'] = len(sub_df)\n",
    "                new_row['access_vector'] = access_vector\n",
    "                new_row['authentication'] = authentication\n",
    "                new_row['language'] = language\n",
    "                new_row['technology'] = technology\n",
    "\n",
    "                cwe_list = zip(sub_df[['cwe_id','cve_id']].groupby(by='cwe_id').count().sort_values(by='cve_id').index.values , sub_df[['cwe_id','cve_id']].groupby(by='cwe_id').count().sort_values(by='cve_id').values/len(sub_df))\n",
    "                cwe_list_unpacked = []\n",
    "                dict_id = 0\n",
    "\n",
    "                for l in cwe_list:\n",
    "                        cwe_id = l[0]\n",
    "\n",
    "                        threats = {}\n",
    "                        for threat in 'STRIDE':\n",
    "                            if len(sub_df[(sub_df['cwe_id'] == cwe_id)]) > 0:\n",
    "                                threats[threat] = len(sub_df[(sub_df['cwe_id'] == cwe_id)\n",
    "                                        &(sub_df[threat]==True)])/len(sub_df[(sub_df['cwe_id'] == cwe_id)])\n",
    "                            else:\n",
    "                                threats[threat] = 0\n",
    "                        base = sub_df[sub_df['cwe_id'] == cwe_id].cvssV2_base_score.mean()\n",
    "                        impact = sub_df[sub_df['cwe_id'] == cwe_id].cvssV2_impact_score.mean()\n",
    "                        exploitability = sub_df[sub_df['cwe_id'] == cwe_id].cvssV2_exploitability_score.mean()\n",
    "\n",
    "                        cwe_list_unpacked.append([l[0],l[1][0], threats['S'], threats['T'], threats['R'], threats['I'], threats['D'], threats['E'], base, impact, exploitability])\n",
    "\n",
    "                sorted_cwe_list = sorted(cwe_list_unpacked, key = lambda x: x[1], reverse=True)\n",
    "                new_row['cwe_list'] = list(sorted_cwe_list)\n",
    "\n",
    "                generated_table[i] =new_row\n",
    "                i+= 1"
   ]
  },
  {
   "cell_type": "code",
   "execution_count": 61,
   "metadata": {
    "ExecuteTime": {
     "end_time": "2020-03-02T18:04:35.403437Z",
     "start_time": "2020-03-02T18:04:35.385409Z"
    }
   },
   "outputs": [],
   "source": [
    "selection_table = pd.DataFrame.from_dict(generated_table, orient='index')"
   ]
  },
  {
   "cell_type": "code",
   "execution_count": 62,
   "metadata": {
    "ExecuteTime": {
     "end_time": "2020-03-02T18:06:30.188910Z",
     "start_time": "2020-03-02T18:06:30.168684Z"
    }
   },
   "outputs": [
    {
     "data": {
      "text/html": [
       "<div>\n",
       "<style scoped>\n",
       "    .dataframe tbody tr th:only-of-type {\n",
       "        vertical-align: middle;\n",
       "    }\n",
       "\n",
       "    .dataframe tbody tr th {\n",
       "        vertical-align: top;\n",
       "    }\n",
       "\n",
       "    .dataframe thead th {\n",
       "        text-align: right;\n",
       "    }\n",
       "</style>\n",
       "<table border=\"1\" class=\"dataframe\">\n",
       "  <thead>\n",
       "    <tr style=\"text-align: right;\">\n",
       "      <th></th>\n",
       "      <th>access_vector</th>\n",
       "      <th>user_access</th>\n",
       "      <th>authentication</th>\n",
       "      <th>language</th>\n",
       "      <th>technology</th>\n",
       "      <th>affected_rows</th>\n",
       "      <th>cwe_list</th>\n",
       "    </tr>\n",
       "  </thead>\n",
       "  <tbody>\n",
       "    <tr>\n",
       "      <th>128</th>\n",
       "      <td>Unknown</td>\n",
       "      <td></td>\n",
       "      <td>Unknown</td>\n",
       "      <td>selection_language_web</td>\n",
       "      <td>Unknown</td>\n",
       "      <td>800</td>\n",
       "      <td>[[434.0, 0.59375, 1.0, 1.0, 0.0, 1.0, 1.0, 1.0...</td>\n",
       "    </tr>\n",
       "    <tr>\n",
       "      <th>96</th>\n",
       "      <td>Unknown</td>\n",
       "      <td></td>\n",
       "      <td>True</td>\n",
       "      <td>selection_language_web</td>\n",
       "      <td>selection_technology_web</td>\n",
       "      <td>242</td>\n",
       "      <td>[[434.0, 1.0, 1.0, 1.0, 0.0, 1.0, 1.0, 1.0, 6....</td>\n",
       "    </tr>\n",
       "    <tr>\n",
       "      <th>77</th>\n",
       "      <td>Network</td>\n",
       "      <td></td>\n",
       "      <td>Unknown</td>\n",
       "      <td>selection_language_compiled</td>\n",
       "      <td>Unknown</td>\n",
       "      <td>17562</td>\n",
       "      <td>[[119.0, 0.6514064457351099, 1.0, 1.0, 0.0, 1....</td>\n",
       "    </tr>\n",
       "    <tr>\n",
       "      <th>26</th>\n",
       "      <td>Local</td>\n",
       "      <td></td>\n",
       "      <td>False</td>\n",
       "      <td>selection_language_jit_compiled</td>\n",
       "      <td>Unknown</td>\n",
       "      <td>592</td>\n",
       "      <td>[[362.0, 0.660472972972973, 0.0, 1.0, 0.0, 1.0...</td>\n",
       "    </tr>\n",
       "    <tr>\n",
       "      <th>1</th>\n",
       "      <td>Local</td>\n",
       "      <td></td>\n",
       "      <td>True</td>\n",
       "      <td>selection_language_compiled</td>\n",
       "      <td>selection_technology_database</td>\n",
       "      <td>0</td>\n",
       "      <td>[]</td>\n",
       "    </tr>\n",
       "  </tbody>\n",
       "</table>\n",
       "</div>"
      ],
      "text/plain": [
       "    access_vector user_access authentication                         language  \\\n",
       "128       Unknown                    Unknown           selection_language_web   \n",
       "96        Unknown                       True           selection_language_web   \n",
       "77        Network                    Unknown      selection_language_compiled   \n",
       "26          Local                      False  selection_language_jit_compiled   \n",
       "1           Local                       True      selection_language_compiled   \n",
       "\n",
       "                        technology  affected_rows  \\\n",
       "128                        Unknown            800   \n",
       "96        selection_technology_web            242   \n",
       "77                         Unknown          17562   \n",
       "26                         Unknown            592   \n",
       "1    selection_technology_database              0   \n",
       "\n",
       "                                              cwe_list  \n",
       "128  [[434.0, 0.59375, 1.0, 1.0, 0.0, 1.0, 1.0, 1.0...  \n",
       "96   [[434.0, 1.0, 1.0, 1.0, 0.0, 1.0, 1.0, 1.0, 6....  \n",
       "77   [[119.0, 0.6514064457351099, 1.0, 1.0, 0.0, 1....  \n",
       "26   [[362.0, 0.660472972972973, 0.0, 1.0, 0.0, 1.0...  \n",
       "1                                                   []  "
      ]
     },
     "execution_count": 63,
     "metadata": {},
     "output_type": "execute_result"
    }
   ],
   "source": [
    "selection_table.sample(5)"
   ]
  }
 ],
 "metadata": {
  "kernelspec": {
   "display_name": "Python 3",
   "language": "python",
   "name": "python3"
  },
  "language_info": {
   "codemirror_mode": {
    "name": "ipython",
    "version": 3
   },
   "file_extension": ".py",
   "mimetype": "text/x-python",
   "name": "python",
   "nbconvert_exporter": "python",
   "pygments_lexer": "ipython3",
   "version": "3.6.9"
  },
  "toc": {
   "base_numbering": 1,
   "nav_menu": {
    "height": "396px",
    "width": "363px"
   },
   "number_sections": true,
   "sideBar": true,
   "skip_h1_title": false,
   "title_cell": "Table of Contents",
   "title_sidebar": "Contents",
   "toc_cell": false,
   "toc_position": {},
   "toc_section_display": true,
   "toc_window_display": false
  }
 },
 "nbformat": 4,
 "nbformat_minor": 2
}
